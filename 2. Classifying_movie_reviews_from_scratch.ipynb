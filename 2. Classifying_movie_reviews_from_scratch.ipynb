{
  "nbformat": 4,
  "nbformat_minor": 0,
  "metadata": {
    "colab": {
      "provenance": []
    },
    "kernelspec": {
      "name": "python3",
      "display_name": "Python 3"
    },
    "language_info": {
      "name": "python"
    }
  },
  "cells": [
    {
      "cell_type": "code",
      "execution_count": 1,
      "metadata": {
        "colab": {
          "base_uri": "https://localhost:8080/"
        },
        "id": "ftu928OjOpsC",
        "outputId": "59cfcf38-5aa1-4547-b60a-c595958066bf"
      },
      "outputs": [
        {
          "output_type": "stream",
          "name": "stdout",
          "text": [
            "  % Total    % Received % Xferd  Average Speed   Time    Time     Time  Current\n",
            "                                 Dload  Upload   Total   Spent    Left  Speed\n",
            "100 80.2M  100 80.2M    0     0  48.1M      0  0:00:01  0:00:01 --:--:-- 48.1M\n"
          ]
        }
      ],
      "source": [
        "from pathlib import Path\n",
        "import os\n",
        "DATA_PATH = Path('./dat/')\n",
        "DATA_PATH.mkdir(exist_ok =True)\n",
        "#if not os.path.exists('./dat/aclImdb_v1.tar.gz'):\n",
        "if not os.path.exists('./dat/aclImdb'):\n",
        "    !curl -O http://ai.stanford.edu/~amaas/data/sentiment/aclImdb_v1.tar.gz\n",
        "    !tar -xf aclImdb_v1.tar.gz -C {DATA_PATH}"
      ]
    },
    {
      "cell_type": "markdown",
      "source": [
        "The data is already split into train/test. Moreover, we have 3 class folders:\n",
        "\n",
        "- pos\n",
        "\n",
        "- neg\n",
        "\n",
        "- unsup (no specific label)"
      ],
      "metadata": {
        "id": "IOLLRJezRGG8"
      }
    },
    {
      "cell_type": "markdown",
      "source": [
        "Let's have a look on the raw data:"
      ],
      "metadata": {
        "id": "TfIaYKKxSTfO"
      }
    },
    {
      "cell_type": "markdown",
      "source": [
        "`.glob()` function is used to retrieve files and directories that match a specific pattern. It is part of the glob module in Python's standard library.\n",
        "* Example --> txt_files = glob.glob('*.txt')\n",
        "* for file in txt_files: print(file)\n",
        "* Output --> eturns a list of all the files in the current directory that have the .txt extension.\n",
        "\n"
      ],
      "metadata": {
        "id": "VC4sze-rXmjZ"
      }
    },
    {
      "cell_type": "markdown",
      "source": [
        "* `encoding='utf-8'`  is used to specify the character encoding of a file or a string. UTF-8 is a widely used encoding that can represent any character in the Unicode standard, making it suitable for handling text data in different languages.\n",
        "\n",
        "* `encoding='utf-8'` ensures that the file is read or written using UTF-8 encoding."
      ],
      "metadata": {
        "id": "ARD1Jt6cO23Q"
      }
    },
    {
      "cell_type": "code",
      "source": [
        "import numpy as np\n",
        "CLASSES = ['neg' ,'pos'] #,'unsup']\n",
        "PATH=Path('./dat/aclImdb/')\n",
        "def get_texts(path):\n",
        "  texts ,labels = [] ,[]\n",
        "  for idx , label in enumerate(CLASSES):\n",
        "    for fname in (path/label).glob('*.*'):\n",
        "      #texts.append(fixup(fname.open('r',encoding='utf-8').read()))\n",
        "      texts.append(fname.open('r', encoding='utf-8').read())\n",
        "      labels.append(idx)\n",
        "      #return np.array(texts), np.array(labels)\n",
        "      return texts , labels"
      ],
      "metadata": {
        "id": "-9qEQjZePIyi"
      },
      "execution_count": 2,
      "outputs": []
    },
    {
      "cell_type": "markdown",
      "source": [
        "* Divided To (`train_text` , `train_labels`)\n",
        "* Divided To (`test_text`  , `test_labels` )"
      ],
      "metadata": {
        "id": "ozaXylsLYiar"
      }
    },
    {
      "cell_type": "code",
      "source": [
        "train_text , train_labels =get_texts(PATH/'train')\n",
        "test_text  , test_labels  =get_texts(PATH/'test')"
      ],
      "metadata": {
        "id": "WhCG0U4zSbpK"
      },
      "execution_count": 3,
      "outputs": []
    },
    {
      "cell_type": "markdown",
      "source": [
        "**Show 10 First Rows From `train_text`"
      ],
      "metadata": {
        "id": "vlJX91XZZoGi"
      }
    },
    {
      "cell_type": "code",
      "source": [
        "for t in train_text[:10]:\n",
        "  print( '\\n' + t + '\\n')"
      ],
      "metadata": {
        "colab": {
          "base_uri": "https://localhost:8080/"
        },
        "id": "QTdUSOCxZMI4",
        "outputId": "b16e8fb3-b87c-406c-a910-a9891165046c"
      },
      "execution_count": 6,
      "outputs": [
        {
          "output_type": "stream",
          "name": "stdout",
          "text": [
            "\n",
            "Typical thriller, has been done many times before. Simple plot outline; cop Liotta becomes obsessed with Russell's wife, and he tries to bump off good ol' Kurt so he can have her. This is beyond predictable, it doesn't even try to make you guess, the plot is the plot and there's no thinking outside the box here. I guess then the only reason to watch it is to see how it develops, but nothing is done originally or interestingly. There's not really anything to say about this film, it's not particularly bad, but there's no good points either. Russell plays Russell and you know what you're gonna get when you see him in a film. Ditto Liotta. Stowe has an annoying Cher-esque voice. I read the plot outline and I could see the film in my head, it was so obvious and basic. I watched it and it rolled out in front of my eyes exactly as I had imagined. I felt not a drop of emotion throughout. I have no feeling towards this film, it's as if I never even watched it. Considering this, it's a pretty pointless film isn't it? Still, I'll give it 3/10 for some reason.\n",
            "\n"
          ]
        }
      ]
    },
    {
      "cell_type": "markdown",
      "source": [
        "# So what it takes to go from the raw form to the prepared form?\n",
        "\n",
        "__A - Text preprocessing__\n",
        "\n",
        "1- Data sequencing: each sentence --> sequence (list) of words\n",
        "\n",
        "2- Data cleaning: This step varies from task to task. For some tasks it's better to remove special characters and punctuations, for other they are critical (emotiocons). Good for perfromance.\n",
        "\n",
        "3- Text normalization: in general text morphology is a big issue in NLP. Upper and lower cases, stemming and lemmatization, ...etc. Again it's task dependent.\n",
        "\n",
        "4- Padding (model dependent): Dense and CNN. RNN can skip this step.\n",
        "\n",
        "__B- Text preparation__\n",
        "\n",
        "5- Binarization/vectorization/digitization: transform words into numbers according to a vocab index.\n"
      ],
      "metadata": {
        "id": "ugCDER4bbLz1"
      }
    },
    {
      "cell_type": "markdown",
      "source": [
        "# Text preprocessing\n",
        "\n",
        "In this phase, we apply some operations on the text, to make it in the most usable form for the task at hand. Mainly we clean it up to be more appealing to the problem we try to solve. The input is __text__ and the output is a transformed __text__."
      ],
      "metadata": {
        "id": "KLlZJguQbrgu"
      }
    },
    {
      "cell_type": "markdown",
      "source": [
        "# Splitting text into sequence\n",
        "* **Manual (split on white spaces)**"
      ],
      "metadata": {
        "id": "WXG8UdOZbsri"
      }
    },
    {
      "cell_type": "code",
      "source": [
        "s = train_text[0]\n",
        "s.split()"
      ],
      "metadata": {
        "id": "ejUKQbnIZ52R",
        "colab": {
          "base_uri": "https://localhost:8080/"
        },
        "outputId": "9a50fc64-42c0-49ae-a846-529c3623d693"
      },
      "execution_count": 7,
      "outputs": [
        {
          "output_type": "execute_result",
          "data": {
            "text/plain": [
              "['Typical',\n",
              " 'thriller,',\n",
              " 'has',\n",
              " 'been',\n",
              " 'done',\n",
              " 'many',\n",
              " 'times',\n",
              " 'before.',\n",
              " 'Simple',\n",
              " 'plot',\n",
              " 'outline;',\n",
              " 'cop',\n",
              " 'Liotta',\n",
              " 'becomes',\n",
              " 'obsessed',\n",
              " 'with',\n",
              " \"Russell's\",\n",
              " 'wife,',\n",
              " 'and',\n",
              " 'he',\n",
              " 'tries',\n",
              " 'to',\n",
              " 'bump',\n",
              " 'off',\n",
              " 'good',\n",
              " \"ol'\",\n",
              " 'Kurt',\n",
              " 'so',\n",
              " 'he',\n",
              " 'can',\n",
              " 'have',\n",
              " 'her.',\n",
              " 'This',\n",
              " 'is',\n",
              " 'beyond',\n",
              " 'predictable,',\n",
              " 'it',\n",
              " \"doesn't\",\n",
              " 'even',\n",
              " 'try',\n",
              " 'to',\n",
              " 'make',\n",
              " 'you',\n",
              " 'guess,',\n",
              " 'the',\n",
              " 'plot',\n",
              " 'is',\n",
              " 'the',\n",
              " 'plot',\n",
              " 'and',\n",
              " \"there's\",\n",
              " 'no',\n",
              " 'thinking',\n",
              " 'outside',\n",
              " 'the',\n",
              " 'box',\n",
              " 'here.',\n",
              " 'I',\n",
              " 'guess',\n",
              " 'then',\n",
              " 'the',\n",
              " 'only',\n",
              " 'reason',\n",
              " 'to',\n",
              " 'watch',\n",
              " 'it',\n",
              " 'is',\n",
              " 'to',\n",
              " 'see',\n",
              " 'how',\n",
              " 'it',\n",
              " 'develops,',\n",
              " 'but',\n",
              " 'nothing',\n",
              " 'is',\n",
              " 'done',\n",
              " 'originally',\n",
              " 'or',\n",
              " 'interestingly.',\n",
              " \"There's\",\n",
              " 'not',\n",
              " 'really',\n",
              " 'anything',\n",
              " 'to',\n",
              " 'say',\n",
              " 'about',\n",
              " 'this',\n",
              " 'film,',\n",
              " \"it's\",\n",
              " 'not',\n",
              " 'particularly',\n",
              " 'bad,',\n",
              " 'but',\n",
              " \"there's\",\n",
              " 'no',\n",
              " 'good',\n",
              " 'points',\n",
              " 'either.',\n",
              " 'Russell',\n",
              " 'plays',\n",
              " 'Russell',\n",
              " 'and',\n",
              " 'you',\n",
              " 'know',\n",
              " 'what',\n",
              " \"you're\",\n",
              " 'gonna',\n",
              " 'get',\n",
              " 'when',\n",
              " 'you',\n",
              " 'see',\n",
              " 'him',\n",
              " 'in',\n",
              " 'a',\n",
              " 'film.',\n",
              " 'Ditto',\n",
              " 'Liotta.',\n",
              " 'Stowe',\n",
              " 'has',\n",
              " 'an',\n",
              " 'annoying',\n",
              " 'Cher-esque',\n",
              " 'voice.',\n",
              " 'I',\n",
              " 'read',\n",
              " 'the',\n",
              " 'plot',\n",
              " 'outline',\n",
              " 'and',\n",
              " 'I',\n",
              " 'could',\n",
              " 'see',\n",
              " 'the',\n",
              " 'film',\n",
              " 'in',\n",
              " 'my',\n",
              " 'head,',\n",
              " 'it',\n",
              " 'was',\n",
              " 'so',\n",
              " 'obvious',\n",
              " 'and',\n",
              " 'basic.',\n",
              " 'I',\n",
              " 'watched',\n",
              " 'it',\n",
              " 'and',\n",
              " 'it',\n",
              " 'rolled',\n",
              " 'out',\n",
              " 'in',\n",
              " 'front',\n",
              " 'of',\n",
              " 'my',\n",
              " 'eyes',\n",
              " 'exactly',\n",
              " 'as',\n",
              " 'I',\n",
              " 'had',\n",
              " 'imagined.',\n",
              " 'I',\n",
              " 'felt',\n",
              " 'not',\n",
              " 'a',\n",
              " 'drop',\n",
              " 'of',\n",
              " 'emotion',\n",
              " 'throughout.',\n",
              " 'I',\n",
              " 'have',\n",
              " 'no',\n",
              " 'feeling',\n",
              " 'towards',\n",
              " 'this',\n",
              " 'film,',\n",
              " \"it's\",\n",
              " 'as',\n",
              " 'if',\n",
              " 'I',\n",
              " 'never',\n",
              " 'even',\n",
              " 'watched',\n",
              " 'it.',\n",
              " 'Considering',\n",
              " 'this,',\n",
              " \"it's\",\n",
              " 'a',\n",
              " 'pretty',\n",
              " 'pointless',\n",
              " 'film',\n",
              " \"isn't\",\n",
              " 'it?',\n",
              " 'Still,',\n",
              " \"I'll\",\n",
              " 'give',\n",
              " 'it',\n",
              " '3/10',\n",
              " 'for',\n",
              " 'some',\n",
              " 'reason.']"
            ]
          },
          "metadata": {},
          "execution_count": 7
        }
      ]
    },
    {
      "cell_type": "markdown",
      "source": [
        "__Notice how punctuation is preserved!__\n",
        "\n",
        "Do we care to have 'movie.', instead of 'movie.' or 'movie,'?\n",
        "\n",
        "Actually we do!\n",
        "\n",
        "As you have already had an idea from previous excercise on clean IMDB, we use vocabulary to binarize the words (word2index).\n",
        "\n",
        "Having such punctuations mandates that we have 2 entries in the vocab for the word movie. This has 2 issues:\n",
        "\n",
        "1- Increased vocab size--> sparse features and more memory\n",
        "\n",
        "2- What other forms we account for: 'movie!', 'movie:',...etc. Those are different and unexpected morphologies.\n",
        "\n",
        "__Remember, we aim at normalizing the text to common format as much as possible (like lower)__"
      ],
      "metadata": {
        "id": "ipszWZ_QP7t5"
      }
    },
    {
      "cell_type": "markdown",
      "source": [
        "## Using regex\n",
        "\n",
        "We could escape this trap by keeping only the words, using a regex:\n",
        "\n",
        "* `The re module` in Python provides support for regular expressions. Regular expressions are powerful tools for pattern matching and string manipulation. They allow you to search, match, and manipulate strings based on specific patterns.\n",
        "![Screenshot (694).png](data:image/png;base64,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)"
      ],
      "metadata": {
        "id": "K6lpQPVSP8zo"
      }
    },
    {
      "cell_type": "code",
      "source": [
        "import re\n",
        "re.split(r'\\W+',s)"
      ],
      "metadata": {
        "colab": {
          "base_uri": "https://localhost:8080/"
        },
        "id": "RL8TZFqIPtMS",
        "outputId": "bf3a8fbe-21c3-4fdd-fddf-29df51dab937"
      },
      "execution_count": 8,
      "outputs": [
        {
          "output_type": "execute_result",
          "data": {
            "text/plain": [
              "['Typical',\n",
              " 'thriller',\n",
              " 'has',\n",
              " 'been',\n",
              " 'done',\n",
              " 'many',\n",
              " 'times',\n",
              " 'before',\n",
              " 'Simple',\n",
              " 'plot',\n",
              " 'outline',\n",
              " 'cop',\n",
              " 'Liotta',\n",
              " 'becomes',\n",
              " 'obsessed',\n",
              " 'with',\n",
              " 'Russell',\n",
              " 's',\n",
              " 'wife',\n",
              " 'and',\n",
              " 'he',\n",
              " 'tries',\n",
              " 'to',\n",
              " 'bump',\n",
              " 'off',\n",
              " 'good',\n",
              " 'ol',\n",
              " 'Kurt',\n",
              " 'so',\n",
              " 'he',\n",
              " 'can',\n",
              " 'have',\n",
              " 'her',\n",
              " 'This',\n",
              " 'is',\n",
              " 'beyond',\n",
              " 'predictable',\n",
              " 'it',\n",
              " 'doesn',\n",
              " 't',\n",
              " 'even',\n",
              " 'try',\n",
              " 'to',\n",
              " 'make',\n",
              " 'you',\n",
              " 'guess',\n",
              " 'the',\n",
              " 'plot',\n",
              " 'is',\n",
              " 'the',\n",
              " 'plot',\n",
              " 'and',\n",
              " 'there',\n",
              " 's',\n",
              " 'no',\n",
              " 'thinking',\n",
              " 'outside',\n",
              " 'the',\n",
              " 'box',\n",
              " 'here',\n",
              " 'I',\n",
              " 'guess',\n",
              " 'then',\n",
              " 'the',\n",
              " 'only',\n",
              " 'reason',\n",
              " 'to',\n",
              " 'watch',\n",
              " 'it',\n",
              " 'is',\n",
              " 'to',\n",
              " 'see',\n",
              " 'how',\n",
              " 'it',\n",
              " 'develops',\n",
              " 'but',\n",
              " 'nothing',\n",
              " 'is',\n",
              " 'done',\n",
              " 'originally',\n",
              " 'or',\n",
              " 'interestingly',\n",
              " 'There',\n",
              " 's',\n",
              " 'not',\n",
              " 'really',\n",
              " 'anything',\n",
              " 'to',\n",
              " 'say',\n",
              " 'about',\n",
              " 'this',\n",
              " 'film',\n",
              " 'it',\n",
              " 's',\n",
              " 'not',\n",
              " 'particularly',\n",
              " 'bad',\n",
              " 'but',\n",
              " 'there',\n",
              " 's',\n",
              " 'no',\n",
              " 'good',\n",
              " 'points',\n",
              " 'either',\n",
              " 'Russell',\n",
              " 'plays',\n",
              " 'Russell',\n",
              " 'and',\n",
              " 'you',\n",
              " 'know',\n",
              " 'what',\n",
              " 'you',\n",
              " 're',\n",
              " 'gonna',\n",
              " 'get',\n",
              " 'when',\n",
              " 'you',\n",
              " 'see',\n",
              " 'him',\n",
              " 'in',\n",
              " 'a',\n",
              " 'film',\n",
              " 'Ditto',\n",
              " 'Liotta',\n",
              " 'Stowe',\n",
              " 'has',\n",
              " 'an',\n",
              " 'annoying',\n",
              " 'Cher',\n",
              " 'esque',\n",
              " 'voice',\n",
              " 'I',\n",
              " 'read',\n",
              " 'the',\n",
              " 'plot',\n",
              " 'outline',\n",
              " 'and',\n",
              " 'I',\n",
              " 'could',\n",
              " 'see',\n",
              " 'the',\n",
              " 'film',\n",
              " 'in',\n",
              " 'my',\n",
              " 'head',\n",
              " 'it',\n",
              " 'was',\n",
              " 'so',\n",
              " 'obvious',\n",
              " 'and',\n",
              " 'basic',\n",
              " 'I',\n",
              " 'watched',\n",
              " 'it',\n",
              " 'and',\n",
              " 'it',\n",
              " 'rolled',\n",
              " 'out',\n",
              " 'in',\n",
              " 'front',\n",
              " 'of',\n",
              " 'my',\n",
              " 'eyes',\n",
              " 'exactly',\n",
              " 'as',\n",
              " 'I',\n",
              " 'had',\n",
              " 'imagined',\n",
              " 'I',\n",
              " 'felt',\n",
              " 'not',\n",
              " 'a',\n",
              " 'drop',\n",
              " 'of',\n",
              " 'emotion',\n",
              " 'throughout',\n",
              " 'I',\n",
              " 'have',\n",
              " 'no',\n",
              " 'feeling',\n",
              " 'towards',\n",
              " 'this',\n",
              " 'film',\n",
              " 'it',\n",
              " 's',\n",
              " 'as',\n",
              " 'if',\n",
              " 'I',\n",
              " 'never',\n",
              " 'even',\n",
              " 'watched',\n",
              " 'it',\n",
              " 'Considering',\n",
              " 'this',\n",
              " 'it',\n",
              " 's',\n",
              " 'a',\n",
              " 'pretty',\n",
              " 'pointless',\n",
              " 'film',\n",
              " 'isn',\n",
              " 't',\n",
              " 'it',\n",
              " 'Still',\n",
              " 'I',\n",
              " 'll',\n",
              " 'give',\n",
              " 'it',\n",
              " '3',\n",
              " '10',\n",
              " 'for',\n",
              " 'some',\n",
              " 'reason',\n",
              " '']"
            ]
          },
          "metadata": {},
          "execution_count": 8
        }
      ]
    },
    {
      "cell_type": "markdown",
      "source": [
        "* **This is better. But imagine have the following:**\n",
        "\n"
      ],
      "metadata": {
        "id": "4bl58aFoRbSY"
      }
    },
    {
      "cell_type": "code",
      "source": [
        "s = 'human-like robots are dump'\n",
        "re.split(r'\\W+', s)"
      ],
      "metadata": {
        "colab": {
          "base_uri": "https://localhost:8080/"
        },
        "id": "dT4gHqf8RUPF",
        "outputId": "4cd04326-99ee-47fb-8133-4b9d6039138d"
      },
      "execution_count": 9,
      "outputs": [
        {
          "output_type": "execute_result",
          "data": {
            "text/plain": [
              "['human', 'like', 'robots', 'are', 'dump']"
            ]
          },
          "metadata": {},
          "execution_count": 9
        }
      ]
    },
    {
      "cell_type": "markdown",
      "source": [
        "* **This is completely opposite meaning!!**"
      ],
      "metadata": {
        "id": "jFe2usRxRo-z"
      }
    },
    {
      "cell_type": "code",
      "source": [
        "s = \"What's on your mind?\"\n",
        "re.split(r'\\W+', s)"
      ],
      "metadata": {
        "colab": {
          "base_uri": "https://localhost:8080/"
        },
        "id": "ybiqx9baRiEF",
        "outputId": "1ea2c8ae-e3a3-4773-9bcc-ab93e24e7fa6"
      },
      "execution_count": 10,
      "outputs": [
        {
          "output_type": "execute_result",
          "data": {
            "text/plain": [
              "['What', 's', 'on', 'your', 'mind', '']"
            ]
          },
          "metadata": {},
          "execution_count": 10
        }
      ]
    },
    {
      "cell_type": "markdown",
      "source": [
        "* The 's is split.\n",
        "\n",
        "* Also the ? is removed!\n",
        "\n",
        "Removing punctuations altogether is not what we want.\n",
        "\n",
        "For sentiment for example, those symbols might be the reason of classfication:\n",
        "\n",
        "- 'What a moview :)'\n",
        "\n",
        "- 'What a movie!'\n",
        "\n"
      ],
      "metadata": {
        "id": "jVoAakcLR0ad"
      }
    },
    {
      "cell_type": "markdown",
      "source": [
        "## Split by white spaces and remove punctuations\n",
        "\n",
        "For the example above, if we want to keep 'What's' but get rid of the punctuations like ? we can use regex to filter punctuations.\n",
        "\n",
        "We can use:\n",
        "\n",
        "* String Punctuations Are ==> `!\"#$%&'()*+,-./:;<=>?@[\\]^_` `{|}~`\n",
        "* In Python, `the import string` -->  statement allows you to access various string-related functions and constants provided by the string module. This module contains a collection of useful string operations that are commonly used in Python programming."
      ],
      "metadata": {
        "id": "OhfyfjyHR-sI"
      }
    },
    {
      "cell_type": "code",
      "source": [
        "import string\n",
        "string.punctuation"
      ],
      "metadata": {
        "colab": {
          "base_uri": "https://localhost:8080/",
          "height": 36
        },
        "id": "Uh9RNAZjRtF2",
        "outputId": "6721bd1b-6b63-4eec-cd67-3b7effb1ac19"
      },
      "execution_count": 11,
      "outputs": [
        {
          "output_type": "execute_result",
          "data": {
            "text/plain": [
              "'!\"#$%&\\'()*+,-./:;<=>?@[\\\\]^_`{|}~'"
            ],
            "application/vnd.google.colaboratory.intrinsic+json": {
              "type": "string"
            }
          },
          "metadata": {},
          "execution_count": 11
        }
      ]
    },
    {
      "cell_type": "markdown",
      "source": [
        "* `Remove Punctuations From each word`"
      ],
      "metadata": {
        "id": "90JzPpODTJOq"
      }
    },
    {
      "cell_type": "code",
      "source": [
        "re_punc = re.compile('[%s]' % re.escape(string.punctuation))\n",
        "#Remove Punctuations From Each Word\n",
        "statment = \"what's on your mind?\"\n",
        "stripped = [re_punc.sub('',w) for w in statment.split()]\n",
        "stripped"
      ],
      "metadata": {
        "colab": {
          "base_uri": "https://localhost:8080/"
        },
        "id": "l88DgHLgSP75",
        "outputId": "df6023c0-00c6-45ba-8f47-a3d72138d94f"
      },
      "execution_count": 13,
      "outputs": [
        {
          "output_type": "execute_result",
          "data": {
            "text/plain": [
              "['whats', 'on', 'your', 'mind']"
            ]
          },
          "metadata": {},
          "execution_count": 13
        }
      ]
    },
    {
      "cell_type": "code",
      "source": [
        "statment_1 = 'human-like robots are dump'\n",
        "stripped = [re_punc.sub('',w) for w in statment_1.split()]\n",
        "stripped"
      ],
      "metadata": {
        "colab": {
          "base_uri": "https://localhost:8080/"
        },
        "id": "z2RUze4gUGax",
        "outputId": "226a81b4-4a88-47bc-8ba2-71e1c7a05e41"
      },
      "execution_count": 15,
      "outputs": [
        {
          "output_type": "execute_result",
          "data": {
            "text/plain": [
              "['humanlike', 'robots', 'are', 'dump']"
            ]
          },
          "metadata": {},
          "execution_count": 15
        }
      ]
    },
    {
      "cell_type": "markdown",
      "source": [
        "* **See how human-like is translated into humanlike, which somehow keeps the meaning.**"
      ],
      "metadata": {
        "id": "s7kiPaimUrRf"
      }
    },
    {
      "cell_type": "markdown",
      "source": [
        "# Case normalization\n",
        "One of the important and easy normalization is to convert all case to common case. `Mostly lower case` . This has the effect of `reducing the vocabulary size`, and also `reduct Out-Of-Vocab (OOV)`.\n",
        "\n",
        "For example, if our vocab is as follows:"
      ],
      "metadata": {
        "id": "HnI3HbUFUv7k"
      }
    },
    {
      "cell_type": "code",
      "source": [
        "v = {'the':1, 'cat':2, 'mat':3}"
      ],
      "metadata": {
        "id": "6YFcNkg6Ui9v"
      },
      "execution_count": 16,
      "outputs": []
    },
    {
      "cell_type": "markdown",
      "source": [
        "* `Now if we try to binarize the following sentence:`"
      ],
      "metadata": {
        "id": "CrKtECkbYQFx"
      }
    },
    {
      "cell_type": "code",
      "source": [
        "s = 'The CAT sat on the mat'"
      ],
      "metadata": {
        "id": "iSBlMVaHYLMp"
      },
      "execution_count": 17,
      "outputs": []
    },
    {
      "cell_type": "code",
      "source": [
        "x = [v[w] for w in s.split()]\n",
        "x"
      ],
      "metadata": {
        "colab": {
          "base_uri": "https://localhost:8080/",
          "height": 272
        },
        "id": "qT4X5i64YTi6",
        "outputId": "5dba7199-89a6-4adc-e28c-259b4572107c"
      },
      "execution_count": 18,
      "outputs": [
        {
          "output_type": "error",
          "ename": "KeyError",
          "evalue": "ignored",
          "traceback": [
            "\u001b[0;31m---------------------------------------------------------------------------\u001b[0m",
            "\u001b[0;31mKeyError\u001b[0m                                  Traceback (most recent call last)",
            "\u001b[0;32m<ipython-input-18-95d8501d12fa>\u001b[0m in \u001b[0;36m<cell line: 1>\u001b[0;34m()\u001b[0m\n\u001b[0;32m----> 1\u001b[0;31m \u001b[0mx\u001b[0m \u001b[0;34m=\u001b[0m \u001b[0;34m[\u001b[0m\u001b[0mv\u001b[0m\u001b[0;34m[\u001b[0m\u001b[0mw\u001b[0m\u001b[0;34m]\u001b[0m \u001b[0;32mfor\u001b[0m \u001b[0mw\u001b[0m \u001b[0;32min\u001b[0m \u001b[0ms\u001b[0m\u001b[0;34m.\u001b[0m\u001b[0msplit\u001b[0m\u001b[0;34m(\u001b[0m\u001b[0;34m)\u001b[0m\u001b[0;34m]\u001b[0m\u001b[0;34m\u001b[0m\u001b[0;34m\u001b[0m\u001b[0m\n\u001b[0m\u001b[1;32m      2\u001b[0m \u001b[0mx\u001b[0m\u001b[0;34m\u001b[0m\u001b[0;34m\u001b[0m\u001b[0m\n",
            "\u001b[0;32m<ipython-input-18-95d8501d12fa>\u001b[0m in \u001b[0;36m<listcomp>\u001b[0;34m(.0)\u001b[0m\n\u001b[0;32m----> 1\u001b[0;31m \u001b[0mx\u001b[0m \u001b[0;34m=\u001b[0m \u001b[0;34m[\u001b[0m\u001b[0mv\u001b[0m\u001b[0;34m[\u001b[0m\u001b[0mw\u001b[0m\u001b[0;34m]\u001b[0m \u001b[0;32mfor\u001b[0m \u001b[0mw\u001b[0m \u001b[0;32min\u001b[0m \u001b[0ms\u001b[0m\u001b[0;34m.\u001b[0m\u001b[0msplit\u001b[0m\u001b[0;34m(\u001b[0m\u001b[0;34m)\u001b[0m\u001b[0;34m]\u001b[0m\u001b[0;34m\u001b[0m\u001b[0;34m\u001b[0m\u001b[0m\n\u001b[0m\u001b[1;32m      2\u001b[0m \u001b[0mx\u001b[0m\u001b[0;34m\u001b[0m\u001b[0;34m\u001b[0m\u001b[0m\n",
            "\u001b[0;31mKeyError\u001b[0m: 'The'"
          ]
        }
      ]
    },
    {
      "cell_type": "markdown",
      "source": [
        "* `To avoid OOV, we can add special term: '_UNK_' for unknown words:`"
      ],
      "metadata": {
        "id": "SDb-pQW1YhXw"
      }
    },
    {
      "cell_type": "code",
      "source": [
        "v = {'the':1, 'cat':2, 'sat': 3, 'on': 4, 'mat':5}"
      ],
      "metadata": {
        "id": "_BltEBVDYZd7"
      },
      "execution_count": 19,
      "outputs": []
    },
    {
      "cell_type": "code",
      "source": [
        "x = []\n",
        "\n",
        "for w in s.split():\n",
        "  if w in v:\n",
        "    x.append(v[w])\n",
        "  else:\n",
        "    x.append(0)\n",
        "x"
      ],
      "metadata": {
        "colab": {
          "base_uri": "https://localhost:8080/"
        },
        "id": "1JsdsJziYlZD",
        "outputId": "b939778d-5761-4e58-bcfa-1172bbdec122"
      },
      "execution_count": 20,
      "outputs": [
        {
          "output_type": "execute_result",
          "data": {
            "text/plain": [
              "[0, 0, 3, 4, 1, 5]"
            ]
          },
          "metadata": {},
          "execution_count": 20
        }
      ]
    },
    {
      "cell_type": "markdown",
      "source": [
        "* As you can see, 'The' and 'Cat' are mapped as UNK. While they are already in the vocab.\n",
        "\n",
        "* To workaround this, we try to get all the text to a common morphology:"
      ],
      "metadata": {
        "id": "b_3g-9M2YwIn"
      }
    },
    {
      "cell_type": "code",
      "source": [
        "x = []\n",
        "\n",
        "for w in s.lower().split():\n",
        "  if w in v:\n",
        "    x.append(v[w])\n",
        "  else:\n",
        "    x.append(0)\n",
        "x"
      ],
      "metadata": {
        "colab": {
          "base_uri": "https://localhost:8080/"
        },
        "id": "a4DbdwKfYrVv",
        "outputId": "9dc55d6f-c363-4dd1-984e-fc879cff7019"
      },
      "execution_count": 21,
      "outputs": [
        {
          "output_type": "execute_result",
          "data": {
            "text/plain": [
              "[1, 2, 3, 4, 1, 5]"
            ]
          },
          "metadata": {},
          "execution_count": 21
        }
      ]
    }
  ]
}