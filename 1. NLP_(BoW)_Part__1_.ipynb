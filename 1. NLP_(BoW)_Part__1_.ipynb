{
  "nbformat": 4,
  "nbformat_minor": 0,
  "metadata": {
    "colab": {
      "provenance": []
    },
    "kernelspec": {
      "name": "python3",
      "display_name": "Python 3"
    },
    "language_info": {
      "name": "python"
    }
  },
  "cells": [
    {
      "cell_type": "markdown",
      "source": [
        "# Introduction to DL NLP with BoW\n",
        "\n",
        "In this tutorial, we will cover:\n",
        "\n",
        "- Simple BoW model on ready processed `keras.datasets.imdb`.\n",
        "- NLP data pre-processing on `aclimbd` raw data set.\n",
        "- Text binarization using keras `Tokenizer`\n",
        "- Text features using both sklearn and keras Tokenizer: `binary`, `count`, `freq` and `tfidf`"
      ],
      "metadata": {
        "id": "lJ2OudNaFj-x"
      }
    },
    {
      "cell_type": "code",
      "execution_count": 1,
      "metadata": {
        "id": "40_C_FXpFfvh"
      },
      "outputs": [],
      "source": [
        "import numpy as np\n",
        "import matplotlib.pyplot as plt\n",
        "import nltk\n",
        "from tensorflow.keras.datasets import imdb\n",
        "from tensorflow.keras.preprocessing.text import text_to_word_sequence\n",
        "from tensorflow.keras.preprocessing.text import Tokenizer\n",
        "from tensorflow.keras.preprocessing.sequence import pad_sequences\n",
        "from tensorflow.keras import models , layers , losses , metrics , optimizers\n",
        "from tensorflow.keras.utils import plot_model\n",
        "from sklearn.feature_extraction.text import CountVectorizer #لقراءة النصوص الطويلة والقيام بعمل معالجة لها\n",
        "#CountVectrorizer ==>  تقوم بقراءة النصوص األطول , وحذف الكلمات المألوفة , ثم عمل وظيفة مشابهة لوظيفة مشابهة الي LabelEncoder\n",
        "from sklearn.feature_extraction.text import TfidfVectorizer\n",
        "from sklearn.model_selection import train_test_split"
      ]
    },
    {
      "cell_type": "markdown",
      "source": [
        "# Download NLTK\n",
        "1. **from nltk.tokenize import word_tokenize**\n",
        "*  The word_tokenize function ==> is used to split a text into individual words or tokens.\n",
        "* It uses various rules and heuristics to determine the boundaries between words.\n",
        "* It can handle different types of text, including sentences, paragraphs, or even entire documents.\n",
        "\n",
        "2. **from nltk.corpus import stopwords ,stop_words = stopwords.words('english')**\n",
        "* Stopwords are commonly used words in a language (e.g., \"is\", \"the\", \"and\")\n",
        "* that are considered to have little or no significance in text analysis and natural language processing tasks.\n",
        "* These words are often removed from text data to reduce noise and improve the quality of analysis.\n",
        "\n",
        "\n",
        "3. **from nltk.corpus import wordnet**\n",
        "* Sure! The nltk.corpus. ==> wordnet module in NLTK (Natural Language Toolkit) provides access to WordNet,\n",
        "* which is a large lexical database for the English language. WordNet is a widely used resource in natural language processing and computational linguistics."
      ],
      "metadata": {
        "id": "LDTyZLhTAvKU"
      }
    },
    {
      "cell_type": "code",
      "source": [
        "nltk.download('punket') # Download NLTK(punket) Function\n",
        "import nltk\n",
        "from nltk.tokenize import word_tokenize\n",
        "from nltk.corpus import stopwords\n",
        "#stop_words = stopwords.words('english')\n",
        "nltk.download('stopwords')\n",
        "nltk.download('wordnet')\n",
        "from nltk.corpus import wordnet\n",
        "from nltk.stem.porter import PorterStemmer\n",
        "#Sure! The PorterStemmer class from the nltk.stem.porter module is a widely used stemming algorithm for English words.\n",
        "# Stemming is the process of reducing words to their base or root form, which helps in information retrieval tasks and text mining.\n",
        "# Example Running ==> After Applying Stemming ==> Run\n",
        "from nltk.stem import WordNetLemmatizer\n",
        "# am ,is , are ==> After Applying Lemmatizer ==> be"
      ],
      "metadata": {
        "colab": {
          "base_uri": "https://localhost:8080/"
        },
        "id": "B0gZ5YmdAmCA",
        "outputId": "9fcf9189-f0be-4935-edf2-bd5bec788578"
      },
      "execution_count": 3,
      "outputs": [
        {
          "output_type": "stream",
          "name": "stderr",
          "text": [
            "[nltk_data] Error loading punket: Package 'punket' not found in index\n",
            "[nltk_data] Downloading package stopwords to /root/nltk_data...\n",
            "[nltk_data]   Unzipping corpora/stopwords.zip.\n",
            "[nltk_data] Downloading package wordnet to /root/nltk_data...\n"
          ]
        }
      ]
    },
    {
      "cell_type": "markdown",
      "source": [
        "# Classifying movie reviews with BoW model\n",
        "__Core ideas:__\n",
        "\n",
        "1- How text is represented in ML/DL (vocab)\n",
        "\n",
        "2- Simple Dense keras model\n",
        "\n",
        "3- Binary classification loss and activation"
      ],
      "metadata": {
        "id": "8eDUj8CdHL0H"
      }
    },
    {
      "cell_type": "markdown",
      "source": [
        "## The IMDB dataset\n",
        "\n",
        "\n",
        "We'll be working with \"IMDB dataset\", a set of 50,000 highly-polarized reviews from the Internet Movie Database. They are split into 25,000\n",
        "reviews for training and 25,000 reviews for testing, each set consisting in 50% negative and 50% positive reviews.\n",
        "\n",
        "Why do we have these two separate training and test sets? You should never test a machine learning model on the same data that you used to\n",
        "train it! Just because a model performs well on its training data doesn't mean that it will perform well on data it has never seen, and\n",
        "what you actually care about is your model's performance on new data (since you already know the labels of your training data -- obviously\n",
        "you don't need your model to predict those). For instance, it is possible that your model could end up merely _memorizing_ a mapping between\n",
        "your training samples and their targets -- which would be completely useless for the task of predicting targets for data never seen before.\n",
        "We will go over this point in much more detail in the next chapter.\n",
        "\n",
        "Just like the MNIST dataset, the IMDB dataset comes packaged with Keras. It has already been preprocessed: the reviews (sequences of words)\n",
        "have been turned into sequences of integers, where each integer stands for a specific word in a dictionary.\n",
        "\n",
        "The following code will load the dataset (when you run it for the first time, about 80MB of data will be downloaded to your machine):"
      ],
      "metadata": {
        "id": "nh4L1TOHHby9"
      }
    },
    {
      "cell_type": "markdown",
      "source": [
        "# Download Data & Divided To\n",
        "1. train_data & Test_data\n",
        "2. Train_Labels & Test_Labels"
      ],
      "metadata": {
        "id": "J2PsT6w0InMN"
      }
    },
    {
      "cell_type": "code",
      "source": [
        "(train_data,train_labels),(test_data,test_labels) = imdb.load_data(num_words=10000)"
      ],
      "metadata": {
        "id": "oQnScA5YDfvK",
        "colab": {
          "base_uri": "https://localhost:8080/"
        },
        "outputId": "ff5311d1-2abb-478d-a7d6-86f30bc54a5a"
      },
      "execution_count": 4,
      "outputs": [
        {
          "output_type": "stream",
          "name": "stdout",
          "text": [
            "Downloading data from https://storage.googleapis.com/tensorflow/tf-keras-datasets/imdb.npz\n",
            "17464789/17464789 [==============================] - 0s 0us/step\n"
          ]
        }
      ]
    },
    {
      "cell_type": "markdown",
      "source": [
        "\n",
        "The argument `num_words=10000` means that we will only keep the top 10,000 most frequently occurring words in the training data. Rare words\n",
        "will be discarded. This allows us to work with vector data of manageable size.\n",
        "\n",
        "The variables `train_data` and `test_data` are lists of reviews, each review being a list of word indices (encoding a sequence of words).\n",
        "`train_labels` and `test_labels` are lists of 0s and 1s, where 0 stands for \"negative\" and 1 stands for \"positive\":"
      ],
      "metadata": {
        "id": "yuuk38hDJEOX"
      }
    },
    {
      "cell_type": "code",
      "source": [
        "train_data[0] # Show Index = 0 In Train_data"
      ],
      "metadata": {
        "colab": {
          "base_uri": "https://localhost:8080/"
        },
        "id": "n4xsmnwwI-Mp",
        "outputId": "5c858aca-2baa-4da6-b88a-acf956eabba5"
      },
      "execution_count": 5,
      "outputs": [
        {
          "output_type": "execute_result",
          "data": {
            "text/plain": [
              "[1,\n",
              " 14,\n",
              " 22,\n",
              " 16,\n",
              " 43,\n",
              " 530,\n",
              " 973,\n",
              " 1622,\n",
              " 1385,\n",
              " 65,\n",
              " 458,\n",
              " 4468,\n",
              " 66,\n",
              " 3941,\n",
              " 4,\n",
              " 173,\n",
              " 36,\n",
              " 256,\n",
              " 5,\n",
              " 25,\n",
              " 100,\n",
              " 43,\n",
              " 838,\n",
              " 112,\n",
              " 50,\n",
              " 670,\n",
              " 2,\n",
              " 9,\n",
              " 35,\n",
              " 480,\n",
              " 284,\n",
              " 5,\n",
              " 150,\n",
              " 4,\n",
              " 172,\n",
              " 112,\n",
              " 167,\n",
              " 2,\n",
              " 336,\n",
              " 385,\n",
              " 39,\n",
              " 4,\n",
              " 172,\n",
              " 4536,\n",
              " 1111,\n",
              " 17,\n",
              " 546,\n",
              " 38,\n",
              " 13,\n",
              " 447,\n",
              " 4,\n",
              " 192,\n",
              " 50,\n",
              " 16,\n",
              " 6,\n",
              " 147,\n",
              " 2025,\n",
              " 19,\n",
              " 14,\n",
              " 22,\n",
              " 4,\n",
              " 1920,\n",
              " 4613,\n",
              " 469,\n",
              " 4,\n",
              " 22,\n",
              " 71,\n",
              " 87,\n",
              " 12,\n",
              " 16,\n",
              " 43,\n",
              " 530,\n",
              " 38,\n",
              " 76,\n",
              " 15,\n",
              " 13,\n",
              " 1247,\n",
              " 4,\n",
              " 22,\n",
              " 17,\n",
              " 515,\n",
              " 17,\n",
              " 12,\n",
              " 16,\n",
              " 626,\n",
              " 18,\n",
              " 2,\n",
              " 5,\n",
              " 62,\n",
              " 386,\n",
              " 12,\n",
              " 8,\n",
              " 316,\n",
              " 8,\n",
              " 106,\n",
              " 5,\n",
              " 4,\n",
              " 2223,\n",
              " 5244,\n",
              " 16,\n",
              " 480,\n",
              " 66,\n",
              " 3785,\n",
              " 33,\n",
              " 4,\n",
              " 130,\n",
              " 12,\n",
              " 16,\n",
              " 38,\n",
              " 619,\n",
              " 5,\n",
              " 25,\n",
              " 124,\n",
              " 51,\n",
              " 36,\n",
              " 135,\n",
              " 48,\n",
              " 25,\n",
              " 1415,\n",
              " 33,\n",
              " 6,\n",
              " 22,\n",
              " 12,\n",
              " 215,\n",
              " 28,\n",
              " 77,\n",
              " 52,\n",
              " 5,\n",
              " 14,\n",
              " 407,\n",
              " 16,\n",
              " 82,\n",
              " 2,\n",
              " 8,\n",
              " 4,\n",
              " 107,\n",
              " 117,\n",
              " 5952,\n",
              " 15,\n",
              " 256,\n",
              " 4,\n",
              " 2,\n",
              " 7,\n",
              " 3766,\n",
              " 5,\n",
              " 723,\n",
              " 36,\n",
              " 71,\n",
              " 43,\n",
              " 530,\n",
              " 476,\n",
              " 26,\n",
              " 400,\n",
              " 317,\n",
              " 46,\n",
              " 7,\n",
              " 4,\n",
              " 2,\n",
              " 1029,\n",
              " 13,\n",
              " 104,\n",
              " 88,\n",
              " 4,\n",
              " 381,\n",
              " 15,\n",
              " 297,\n",
              " 98,\n",
              " 32,\n",
              " 2071,\n",
              " 56,\n",
              " 26,\n",
              " 141,\n",
              " 6,\n",
              " 194,\n",
              " 7486,\n",
              " 18,\n",
              " 4,\n",
              " 226,\n",
              " 22,\n",
              " 21,\n",
              " 134,\n",
              " 476,\n",
              " 26,\n",
              " 480,\n",
              " 5,\n",
              " 144,\n",
              " 30,\n",
              " 5535,\n",
              " 18,\n",
              " 51,\n",
              " 36,\n",
              " 28,\n",
              " 224,\n",
              " 92,\n",
              " 25,\n",
              " 104,\n",
              " 4,\n",
              " 226,\n",
              " 65,\n",
              " 16,\n",
              " 38,\n",
              " 1334,\n",
              " 88,\n",
              " 12,\n",
              " 16,\n",
              " 283,\n",
              " 5,\n",
              " 16,\n",
              " 4472,\n",
              " 113,\n",
              " 103,\n",
              " 32,\n",
              " 15,\n",
              " 16,\n",
              " 5345,\n",
              " 19,\n",
              " 178,\n",
              " 32]"
            ]
          },
          "metadata": {},
          "execution_count": 5
        }
      ]
    },
    {
      "cell_type": "code",
      "source": [
        "train_labels[0] # Show Index = 0 in Train Labels"
      ],
      "metadata": {
        "colab": {
          "base_uri": "https://localhost:8080/"
        },
        "id": "vZtW1VUDJW7p",
        "outputId": "f4920ed5-ca44-4cc7-ee49-fcfd104f3015"
      },
      "execution_count": 6,
      "outputs": [
        {
          "output_type": "execute_result",
          "data": {
            "text/plain": [
              "1"
            ]
          },
          "metadata": {},
          "execution_count": 6
        }
      ]
    },
    {
      "cell_type": "markdown",
      "source": [
        "**Since we restricted ourselves to the top 10,000 most frequent words, no word index will exceed 10,000:**"
      ],
      "metadata": {
        "id": "QRoh3oGMJwGA"
      }
    },
    {
      "cell_type": "code",
      "source": [
        "max([max(sequence) for sequence in train_data])"
      ],
      "metadata": {
        "colab": {
          "base_uri": "https://localhost:8080/"
        },
        "id": "53Cpd_mkJpqH",
        "outputId": "a2f4f417-0979-4f2b-b4ad-dd6096571b54"
      },
      "execution_count": 7,
      "outputs": [
        {
          "output_type": "execute_result",
          "data": {
            "text/plain": [
              "9999"
            ]
          },
          "metadata": {},
          "execution_count": 7
        }
      ]
    },
    {
      "cell_type": "markdown",
      "source": [
        "**For kicks, here's how you can quickly decode one of these reviews back to English words:**\n",
        "* 1. ==> **we decode the review , note that our indices were offest by 3**\n",
        "* 1.1 **Because 0 , 1 & 2 are reversed indices for \"padding\" , \"start of sequence\" , and \"Unknown\"**\n",
        "* 1.2 **0 ==> Padding   , 1 ==> Start Of Sequence    , 2 ==> Unknown**\n",
        "\n",
        "* 2. ==> **.join() method is used to concatenate elements of a sequence (such as a list or a tuple) into a string.**\n",
        "* 2.1 **Example ==> my_list = ['Hello', 'World', 'Python'] , result = ' '.join(my_list) , print(result) ==> Hello World Python**"
      ],
      "metadata": {
        "id": "RN76LrBRRyGe"
      }
    },
    {
      "cell_type": "code",
      "source": [
        "#Word index is a dictionary mapping words to an integer index\n",
        "word_index = imdb.get_word_index()\n",
        "#word_index\n",
        "# We Reverse it , mapping integer indices to words\n",
        "reverse_word_index = dict([(value,key) for (key,value) in word_index.items()])\n",
        "#we decode the review , note that our indices were offest by 3\n",
        "#Because 0 , 1 & 2 are reversed indices for \"padding\" , \"start of sequence\" , and \"Unknown\"\n",
        "# 0 ==> Padding   , 1 ==> Start Of Sequence    , 2 ==> Unknown\n",
        "decode_review = ' '.join([reverse_word_index.get(i-3 , '?') for i in train_data[0]])"
      ],
      "metadata": {
        "id": "RQL9XpouLDdO"
      },
      "execution_count": 11,
      "outputs": []
    },
    {
      "cell_type": "markdown",
      "source": [
        "* **display decode review**"
      ],
      "metadata": {
        "id": "KHUPSfFV96Kp"
      }
    },
    {
      "cell_type": "code",
      "source": [
        "decode_review"
      ],
      "metadata": {
        "colab": {
          "base_uri": "https://localhost:8080/",
          "height": 127
        },
        "id": "XYE9pUhB62a3",
        "outputId": "3388abe3-25d2-449d-ac59-fed45392c36e"
      },
      "execution_count": 12,
      "outputs": [
        {
          "output_type": "execute_result",
          "data": {
            "text/plain": [
              "\"? this film was just brilliant casting location scenery story direction everyone's really suited the part they played and you could just imagine being there robert ? is an amazing actor and now the same being director ? father came from the same scottish island as myself so i loved the fact there was a real connection with this film the witty remarks throughout the film were great it was just brilliant so much that i bought the film as soon as it was released for ? and would recommend it to everyone to watch and the fly fishing was amazing really cried at the end it was so sad and you know what they say if you cry at a film it must have been good and this definitely was also ? to the two little boy's that played the ? of norman and paul they were just brilliant children are often left out of the ? list i think because the stars that play them all grown up are such a big profile for the whole film but these children are amazing and should be praised for what they have done don't you think the whole story was so lovely because it was true and was someone's life after all that was shared with us all\""
            ],
            "application/vnd.google.colaboratory.intrinsic+json": {
              "type": "string"
            }
          },
          "metadata": {},
          "execution_count": 12
        }
      ]
    },
    {
      "cell_type": "markdown",
      "source": [
        "# Bag of Words\n",
        "\n",
        "The term BoW is used in many different occasions in NLP. In general, it referes to treating every word equally as the others, without consideration of sequential information of the sentence or document. In other words, the context of the words is not considered.\n",
        "\n",
        "In some settings, words in the bag are summed, averaged,...etc (or their vectors). In other settings, they are simply mutlipled by different _learnable_ weighting. This is the case we will consider. We will use the `Dense` layer, applied to a _long_ vector of 1's and 0's. The length of that vector is the same as the number of words in our vocab (we specified when loading the data above using the `num_words` param). We will have such vector for every sentence/document of the data. Whenever a word of the vocab is mentioned, we set the corresponding location to 1. Otherwise, it's 0.\n",
        "\n",
        "__You can imagine how sparse and inefficient is that vector!__\n",
        "\n",
        "__In this setting, we are treating the mention or absence of a word as a feature__\n",
        "\n",
        "The `Dense` layer will assign a _learnable_ weight to each word location. If the word is mentioned, that weight will be multiplied by 1, else it's 0. Then the output of the `Dense` is a number of neurons (hyper param), each represents different weighting of the input long vector of features/words.\n",
        "\n",
        "The next layers, are just further _refinements_ of the learnt features from the previous layers. Until we reach the final layer, which produces 1 or k outputs according to the problem or task (binary or multi classification).\n",
        "\n",
        "__Pros__:\n",
        "- All words are normalized, regardless of their index in the vocab\n",
        "\n",
        "__Cons__:\n",
        "\n",
        "- Sparsity = inefficiency = A lot of useless features = confusion of the model = unnecessary big model = more overfitting\n",
        "\n",
        "- Need to pad to max (again inefficiency):\n",
        "\n",
        "This model, requires ALL the data samples to have the same length, sense the `Dense` layer cannot handle variable length input (weight matrix is fixed). This mandates to perform padding\n",
        "\n",
        "- No context = no sequence = hard to model co-reference, sarcasm, negation...etc\n",
        "\n",
        "_Example_\n",
        "\n",
        "Such BoW model has no clue to differentiate the following cases:\n",
        "\n",
        "- This movie is good --> +\n",
        "\n",
        "- This movie is bad --> -\n",
        "\n",
        "- This movie is not good --> -\n",
        "\n",
        "- This movie is not bad --> +\n",
        "\n",
        "Simple because it cannot link the context of the words \"good\" and \"bad\" to the negatition or affirmation context \"not\"\n",
        "\n"
      ],
      "metadata": {
        "id": "h8f78qW5-LbJ"
      }
    },
    {
      "cell_type": "markdown",
      "source": [
        "## Preparing the data\n",
        "\n",
        "\n",
        "We cannot feed lists of integers into a neural network. We have to turn our lists into tensors. There are two ways we could do that:\n",
        "\n",
        "* We could pad our lists so that they all have the same length, and turn them into an integer tensor of shape `(samples, word_indices)`,\n",
        "then use as first layer in our network a layer capable of handling such integer tensors (the `Embedding` layer, which we will cover in\n",
        "detail later).\n",
        "* We could one-hot-encode our lists to turn them into vectors of 0s and 1s. Concretely, this would mean for instance turning the sequence\n",
        "`[3, 5]` into a 10,000-dimensional vector that would be all-zeros except for indices 3 and 5, which would be ones. Then we could use as\n",
        "first layer in our network a `Dense` layer, capable of handling floating point vector data.\n",
        "\n",
        "We will go with the latter solution. Let's vectorize our data, which we will do manually for maximum clarity:"
      ],
      "metadata": {
        "id": "KAHCwJ59AFRv"
      }
    },
    {
      "cell_type": "markdown",
      "source": [
        "* **enumerate() is a built-in function used to iterate over a sequence while keeping track of the index of each item. It takes an iterable (such as a list, tuple, or string) as input and returns an iterator that generates pairs containing the index and the corresponding item of the iterable.**\n",
        "\n",
        "* Example\n",
        "1. fruits = ['apple', 'banana', 'mango']\n",
        "2. for index, fruit in enumerate(fruits): print(index, fruit)\n",
        "* 0 apple\n",
        "* 1 banana\n",
        "* 2 mango"
      ],
      "metadata": {
        "id": "GJT6JUU3BypR"
      }
    },
    {
      "cell_type": "code",
      "source": [
        "def vectorize_sequences(sequences , dimension = 10000):\n",
        "  #First --> Create an all_zero matrix of shape (len(sequences),dimension)\n",
        "  results = np.zeros((len(sequences), dimension))\n",
        "  #Create Loop because built-in function used to iterate over a sequence while keeping track of the index of each item\n",
        "  for i , sequence in enumerate(sequences):\n",
        "    results[i , sequence] = 1. #set specific indices of results[i] to 1s\n",
        "  return results\n",
        "# Our Vectorized training data\n",
        "x_train = vectorize_sequences(train_data)\n",
        "# Our Vectorized test data\n",
        "x_test = vectorize_sequences(test_data)"
      ],
      "metadata": {
        "id": "FiD8TJv4-CKk"
      },
      "execution_count": 13,
      "outputs": []
    },
    {
      "cell_type": "markdown",
      "source": [
        "* Show X_train[0]"
      ],
      "metadata": {
        "id": "1oGGSgXNDW3g"
      }
    },
    {
      "cell_type": "code",
      "source": [
        "x_train[0]"
      ],
      "metadata": {
        "colab": {
          "base_uri": "https://localhost:8080/"
        },
        "id": "HEBUD37oDOB-",
        "outputId": "c6384af8-cd19-426a-cd03-a1170bcdc756"
      },
      "execution_count": 14,
      "outputs": [
        {
          "output_type": "execute_result",
          "data": {
            "text/plain": [
              "array([0., 1., 1., ..., 0., 0., 0.])"
            ]
          },
          "metadata": {},
          "execution_count": 14
        }
      ]
    },
    {
      "cell_type": "markdown",
      "source": [
        "*  ** `asarray` is a function provided by the NumPy library. It is used to convert a given input into an array.**"
      ],
      "metadata": {
        "id": "qFU76doPDrV5"
      }
    },
    {
      "cell_type": "code",
      "source": [
        "#Convert train_labels to array , type --> convert to float32\n",
        "y_train = np.asarray(train_labels).astype('float32')\n",
        "#Convert test_labels to array , type --> convert to float32\n",
        "y_test = np.asarray(test_labels).astype('float32')"
      ],
      "metadata": {
        "id": "rw-runNgDa4M"
      },
      "execution_count": 15,
      "outputs": []
    },
    {
      "cell_type": "markdown",
      "source": [
        "# Now our data is ready to be fed into a neural network.\n",
        "\n",
        "## Building our network\n",
        "\n",
        "\n",
        "Our input data is simply vectors, and our labels are scalars (1s and 0s): this is the easiest setup you will ever encounter. A type of\n",
        "network that performs well on such a problem would be a simple stack of fully-connected (`Dense`) layers with `relu` activations: `Dense(16,\n",
        "activation='relu')`\n",
        "\n",
        "The argument being passed to each `Dense` layer (16) is the number of \"hidden units\" of the layer. What's a hidden unit? It's a dimension\n",
        "in the representation space of the layer. You may remember from the previous chapter that each such `Dense` layer with a `relu` activation implements\n",
        "the following chain of tensor operations:\n",
        "\n",
        "`output = relu(dot(W, input) + b)`\n",
        "\n",
        "Having 16 hidden units means that the weight matrix `W` will have shape `(input_dimension, 16)`, i.e. the dot product with `W` will project the\n",
        "input data onto a 16-dimensional representation space (and then we would add the bias vector `b` and apply the `relu` operation). You can\n",
        "intuitively understand the dimensionality of your representation space as \"how much freedom you are allowing the network to have when\n",
        "learning internal representations\". Having more hidden units (a higher-dimensional representation space) allows your network to learn more\n",
        "complex representations, but it makes your network more computationally expensive and may lead to learning unwanted patterns (patterns that\n",
        "will improve performance on the training data but not on the test data).\n",
        "\n",
        "There are two key architecture decisions to be made about such stack of dense layers:\n",
        "\n",
        "* How many layers to use.\n",
        "* How many \"hidden units\" to chose for each layer.\n",
        "\n",
        "In the next chapter, you will learn formal principles to guide you in making these choices.\n",
        "For the time being, you will have to trust us with the following architecture choice:\n",
        "two intermediate layers with 16 hidden units each,\n",
        "and a third layer which will output the scalar prediction regarding the sentiment of the current review.\n",
        "The intermediate layers will use `relu` as their \"activation function\",\n",
        "and the final layer will use a sigmoid activation so as to output a probability\n",
        "(a score between 0 and 1, indicating how likely the sample is to have the target \"1\", i.e. how likely the review is to be positive).\n",
        "A `relu` (rectified linear unit) is a function meant to zero-out negative values,\n",
        "while a sigmoid \"squashes\" arbitrary values into the `[0, 1]` interval, thus outputting something that can be interpreted as a probability."
      ],
      "metadata": {
        "id": "fjS09cgAEi2R"
      }
    },
    {
      "cell_type": "markdown",
      "source": [
        "Here's what our network looks like:\n",
        "\n",
        "![3-layer network](https://s3.amazonaws.com/book.keras.io/img/ch3/3_layer_network.png)"
      ],
      "metadata": {
        "id": "bcJQwdknFCmH"
      }
    },
    {
      "cell_type": "markdown",
      "source": [
        "* **And here's thae Keras implementation, very similar to the MNIST example you saw previously:**"
      ],
      "metadata": {
        "id": "IhRbC3ogGvTb"
      }
    },
    {
      "cell_type": "code",
      "source": [
        "from tensorflow.keras.models import Sequential\n",
        "from tensorflow.keras.layers import Dense\n",
        "model = Sequential()\n",
        "model.add(Dense(units = 16 , activation = 'relu' , input_shape = (10000,), name = 'Hidden_Layer1'))\n",
        "model.add(Dense(units = 16 , activation = 'relu', name ='Hidden_Layer2'))\n",
        "model.add(Dense(units = 1  , activation = 'sigmoid', name = 'Output_Layer'))"
      ],
      "metadata": {
        "id": "g1Hou4GcE-Fv"
      },
      "execution_count": 18,
      "outputs": []
    },
    {
      "cell_type": "code",
      "source": [
        "plot_model(model)"
      ],
      "metadata": {
        "colab": {
          "base_uri": "https://localhost:8080/",
          "height": 369
        },
        "id": "aeDvWnnsHriV",
        "outputId": "5057601f-a5ae-444a-8c03-80b800c2d1df"
      },
      "execution_count": 19,
      "outputs": [
        {
          "output_type": "execute_result",
          "data": {
            "image/png": "[encoded data removed]",
            "text/plain": [
              "<IPython.core.display.Image object>"
            ]
          },
          "metadata": {},
          "execution_count": 19
        }
      ]
    },
    {
      "cell_type": "code",
      "source": [
        "model.summary()"
      ],
      "metadata": {
        "colab": {
          "base_uri": "https://localhost:8080/"
        },
        "id": "Wm0c9w45H0M1",
        "outputId": "04b58eb2-4678-47ec-d894-208bc269b1ac"
      },
      "execution_count": 20,
      "outputs": [
        {
          "output_type": "stream",
          "name": "stdout",
          "text": [
            "Model: \"sequential_1\"\n",
            "_________________________________________________________________\n",
            " Layer (type)                Output Shape              Param #   \n",
            "=================================================================\n",
            " Hidden_Layer1 (Dense)       (None, 16)                160016    \n",
            "                                                                 \n",
            " Hidden_Layer2 (Dense)       (None, 16)                272       \n",
            "                                                                 \n",
            " Output_Layer (Dense)        (None, 1)                 17        \n",
            "                                                                 \n",
            "=================================================================\n",
            "Total params: 160,305\n",
            "Trainable params: 160,305\n",
            "Non-trainable params: 0\n",
            "_________________________________________________________________\n"
          ]
        }
      ]
    },
    {
      "cell_type": "markdown",
      "source": [
        "\n",
        "Lastly, we need to pick a loss function and an optimizer. Since we are facing a binary classification problem and the output of our network\n",
        "is a probability (we end our network with a single-unit layer with a sigmoid activation), is it best to use the `binary_crossentropy` loss.\n",
        "It isn't the only viable choice: you could use, for instance, `mean_squared_error`. But crossentropy is usually the best choice when you\n",
        "are dealing with models that output probabilities. Crossentropy is a quantity from the field of Information Theory, that measures the \"distance\"\n",
        "between probability distributions, or in our case, between the ground-truth distribution and our predictions.\n",
        "\n",
        "Here's the step where we configure our model with the `rmsprop` optimizer and the `binary_crossentropy` loss function. Note that we will\n",
        "also monitor accuracy during training."
      ],
      "metadata": {
        "id": "EW_2JPLqIC7C"
      }
    },
    {
      "cell_type": "code",
      "source": [
        "model.compile(optimizer='rmsprop',loss = 'binary_crossentropy',metrics = ['accuracy'])"
      ],
      "metadata": {
        "id": "4aHAYNiwH3eY"
      },
      "execution_count": 21,
      "outputs": []
    },
    {
      "cell_type": "code",
      "source": [
        "model.compile(optimizer=optimizers.RMSprop(lr = 0.001),loss = 'binary_crossentropy',metrics = ['accuracy'] )"
      ],
      "metadata": {
        "colab": {
          "base_uri": "https://localhost:8080/"
        },
        "id": "A_rohD7wIiLI",
        "outputId": "63399b8a-a5e8-4f3c-86b1-c9b512d83e8d"
      },
      "execution_count": 22,
      "outputs": [
        {
          "output_type": "stream",
          "name": "stderr",
          "text": [
            "WARNING:absl:`lr` is deprecated in Keras optimizer, please use `learning_rate` or use the legacy optimizer, e.g.,tf.keras.optimizers.legacy.RMSprop.\n"
          ]
        }
      ]
    },
    {
      "cell_type": "markdown",
      "source": [
        "## Validating our approach\n",
        "\n",
        "In order to monitor during training the accuracy of the model on data that it has never seen before, we will create a \"validation set\" by\n",
        "setting apart 10,000 samples from the original training data:"
      ],
      "metadata": {
        "id": "5ssd98JdJFJP"
      }
    },
    {
      "cell_type": "code",
      "source": [
        "x_val = x_train[:10000]\n",
        "partial_x_train = x_train[10000:]\n",
        "y_val = y_train[:10000]\n",
        "partial_y_train = y_train[10000:]"
      ],
      "metadata": {
        "id": "_X-5LuduI9Eu"
      },
      "execution_count": 24,
      "outputs": []
    },
    {
      "cell_type": "markdown",
      "source": [
        "We will now train our model for 20 epochs (20 iterations over all samples in the `x_train` and `y_train` tensors), in mini-batches of 512\n",
        "samples. At this same time we will monitor loss and accuracy on the 10,000 samples that we set apart. This is done by passing the\n",
        "validation data as the `validation_data` argument:"
      ],
      "metadata": {
        "id": "xrItrziOJeNY"
      }
    },
    {
      "cell_type": "code",
      "source": [
        "history = model.fit(partial_x_train , partial_y_train,epochs=20 , batch_size=512 ,validation_data = (x_val,y_val))"
      ],
      "metadata": {
        "colab": {
          "base_uri": "https://localhost:8080/"
        },
        "id": "Po3ivKpCJZxe",
        "outputId": "d97e2710-2052-4aa2-d2d5-3830f63a0d1e"
      },
      "execution_count": 26,
      "outputs": [
        {
          "output_type": "stream",
          "name": "stdout",
          "text": [
            "Epoch 1/20\n",
            "30/30 [==============================] - 4s 90ms/step - loss: 0.5342 - accuracy: 0.7766 - val_loss: 0.4029 - val_accuracy: 0.8614\n",
            "Epoch 2/20\n",
            "30/30 [==============================] - 1s 45ms/step - loss: 0.3199 - accuracy: 0.9017 - val_loss: 0.3170 - val_accuracy: 0.8831\n",
            "Epoch 3/20\n",
            "30/30 [==============================] - 1s 35ms/step - loss: 0.2321 - accuracy: 0.9268 - val_loss: 0.2957 - val_accuracy: 0.8813\n",
            "Epoch 4/20\n",
            "30/30 [==============================] - 1s 37ms/step - loss: 0.1784 - accuracy: 0.9446 - val_loss: 0.2757 - val_accuracy: 0.8891\n",
            "Epoch 5/20\n",
            "30/30 [==============================] - 1s 37ms/step - loss: 0.1476 - accuracy: 0.9538 - val_loss: 0.3004 - val_accuracy: 0.8841\n",
            "Epoch 6/20\n",
            "30/30 [==============================] - 1s 37ms/step - loss: 0.1183 - accuracy: 0.9636 - val_loss: 0.3053 - val_accuracy: 0.8792\n",
            "Epoch 7/20\n",
            "30/30 [==============================] - 2s 55ms/step - loss: 0.0965 - accuracy: 0.9716 - val_loss: 0.3255 - val_accuracy: 0.8821\n",
            "Epoch 8/20\n",
            "30/30 [==============================] - 2s 55ms/step - loss: 0.0789 - accuracy: 0.9801 - val_loss: 0.3316 - val_accuracy: 0.8806\n",
            "Epoch 9/20\n",
            "30/30 [==============================] - 2s 54ms/step - loss: 0.0622 - accuracy: 0.9845 - val_loss: 0.3496 - val_accuracy: 0.8798\n",
            "Epoch 10/20\n",
            "30/30 [==============================] - 2s 65ms/step - loss: 0.0498 - accuracy: 0.9891 - val_loss: 0.3850 - val_accuracy: 0.8726\n",
            "Epoch 11/20\n",
            "30/30 [==============================] - 1s 42ms/step - loss: 0.0399 - accuracy: 0.9913 - val_loss: 0.4061 - val_accuracy: 0.8744\n",
            "Epoch 12/20\n",
            "30/30 [==============================] - 1s 37ms/step - loss: 0.0313 - accuracy: 0.9942 - val_loss: 0.4333 - val_accuracy: 0.8735\n",
            "Epoch 13/20\n",
            "30/30 [==============================] - 1s 37ms/step - loss: 0.0259 - accuracy: 0.9951 - val_loss: 0.4637 - val_accuracy: 0.8740\n",
            "Epoch 14/20\n",
            "30/30 [==============================] - 1s 36ms/step - loss: 0.0210 - accuracy: 0.9961 - val_loss: 0.4946 - val_accuracy: 0.8736\n",
            "Epoch 15/20\n",
            "30/30 [==============================] - 1s 44ms/step - loss: 0.0136 - accuracy: 0.9983 - val_loss: 0.5252 - val_accuracy: 0.8731\n",
            "Epoch 16/20\n",
            "30/30 [==============================] - 1s 35ms/step - loss: 0.0111 - accuracy: 0.9985 - val_loss: 0.5547 - val_accuracy: 0.8734\n",
            "Epoch 17/20\n",
            "30/30 [==============================] - 1s 38ms/step - loss: 0.0074 - accuracy: 0.9994 - val_loss: 0.6838 - val_accuracy: 0.8603\n",
            "Epoch 18/20\n",
            "30/30 [==============================] - 1s 35ms/step - loss: 0.0051 - accuracy: 0.9997 - val_loss: 0.6331 - val_accuracy: 0.8693\n",
            "Epoch 19/20\n",
            "30/30 [==============================] - 2s 51ms/step - loss: 0.0069 - accuracy: 0.9986 - val_loss: 0.6579 - val_accuracy: 0.8681\n",
            "Epoch 20/20\n",
            "30/30 [==============================] - 2s 60ms/step - loss: 0.0033 - accuracy: 0.9997 - val_loss: 0.7621 - val_accuracy: 0.8634\n"
          ]
        }
      ]
    },
    {
      "cell_type": "markdown",
      "source": [
        "On CPU, this will take less than two seconds per epoch -- training is over in 20 seconds. At the end of every epoch, there is a slight pause\n",
        "as the model computes its loss and accuracy on the 10,000 samples of the validation data.\n",
        "\n",
        "Note that the call to `model.fit()` returns a `History` object. This object has a member `history`, which is a dictionary containing data\n",
        "about everything that happened during training. Let's take a look at it:"
      ],
      "metadata": {
        "id": "ia9E9fcrK68R"
      }
    },
    {
      "cell_type": "code",
      "source": [
        "history_dict = history.history\n",
        "history_dict.keys()"
      ],
      "metadata": {
        "colab": {
          "base_uri": "https://localhost:8080/"
        },
        "id": "re_6ODqnKBCo",
        "outputId": "07cc98ad-56e3-4def-f274-07e0ebc9a4e4"
      },
      "execution_count": 27,
      "outputs": [
        {
          "output_type": "execute_result",
          "data": {
            "text/plain": [
              "dict_keys(['loss', 'accuracy', 'val_loss', 'val_accuracy'])"
            ]
          },
          "metadata": {},
          "execution_count": 27
        }
      ]
    },
    {
      "cell_type": "markdown",
      "source": [
        "It contains 4 entries: one per metric that was being monitored, during training and during validation. Let's use Matplotlib to plot the\n",
        "training and validation loss side by side, as well as the training and validation accuracy:"
      ],
      "metadata": {
        "id": "G0C0qzqNLZXR"
      }
    },
    {
      "cell_type": "code",
      "source": [
        "plt.style.use('ggplot')\n",
        "acc = history.history['val_accuracy']\n",
        "val_acc = history.history['accuracy']\n",
        "loss = history.history['loss']\n",
        "val_loss = history.history['val_loss']\n",
        "epochs = range(1 , len(acc)+1)\n",
        "# \"bo\" is for 'blue dot '\n",
        "plt.plot(epochs, loss , 'bo' ,label = 'Training Loss')\n",
        "# 'b' is for 'solid blue line'\n",
        "plt.plot(epochs , val_loss , 'b' , label = 'Validation Loss')\n",
        "plt.title('Training and Validation Loss')\n",
        "plt.xlabel('Epochs')\n",
        "plt.ylabel('Loss')\n",
        "plt.legend()\n",
        "plt.show()"
      ],
      "metadata": {
        "colab": {
          "base_uri": "https://localhost:8080/",
          "height": 477
        },
        "id": "j-iDbaI1LIwZ",
        "outputId": "f3c56467-27f5-46f8-d750-34300525ccd8"
      },
      "execution_count": 31,
      "outputs": [
        {
          "output_type": "display_data",
          "data": {
            "text/plain": [
              "<Figure size 640x480 with 1 Axes>"
            ],
            "image/png": "[encoded data removed]"
          },
          "metadata": {}
        }
      ]
    },
    {
      "cell_type": "code",
      "source": [
        "plt.clf()   # clear figure\n",
        "acc_values = history_dict['val_accuracy']\n",
        "val_acc_values = history_dict['accuracy']\n",
        "\n",
        "plt.plot(epochs, acc, 'bo', label='Training acc')\n",
        "plt.plot(epochs, val_acc, 'b', label='Validation acc')\n",
        "plt.title('Training and validation accuracy')\n",
        "plt.xlabel('Epochs')\n",
        "plt.ylabel('Loss')\n",
        "plt.legend()\n",
        "\n",
        "plt.show()"
      ],
      "metadata": {
        "colab": {
          "base_uri": "https://localhost:8080/",
          "height": 477
        },
        "id": "L71HOdUwNHnt",
        "outputId": "8f896514-616f-4c05-bf3d-0284f3cd401e"
      },
      "execution_count": 32,
      "outputs": [
        {
          "output_type": "display_data",
          "data": {
            "text/plain": [
              "<Figure size 640x480 with 1 Axes>"
            ],
            "image/png": "[encoded data removed]"
          },
          "metadata": {}
        }
      ]
    }
  ]
}