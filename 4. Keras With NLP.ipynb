{
 "cells": [
  {
   "cell_type": "markdown",
   "metadata": {},
   "source": [
    "## Keras \n",
    "\n",
    "There are many other NLP tools than NLTK. Keras is a DL framework, that also have some NLP tools, specially for tokenization.\n"
   ]
  },
  {
   "cell_type": "markdown",
   "metadata": {},
   "source": [
    "But it suffers the same issues as split() on white spaces:"
   ]
  },
  {
   "cell_type": "code",
   "execution_count": 1,
   "metadata": {},
   "outputs": [
    {
     "name": "stdout",
     "output_type": "stream",
     "text": [
      "The tokenize document is -->  ['human', 'like', 'robots', 'are', 'dump', 'but', 'cute']\n"
     ]
    }
   ],
   "source": [
    "from tensorflow.keras.preprocessing.text import text_to_word_sequence\n",
    "# define the document\n",
    "text = 'human-like robots are dump, but cute' # 'The quick brown fox jumped over the lazy dog.'\n",
    "# Tokenize The Document\n",
    "result = text_to_word_sequence(text)\n",
    "print('The tokenize document is --> ',result)"
   ]
  },
  {
   "cell_type": "markdown",
   "metadata": {},
   "source": [
    "# Text preparation\n",
    "\n",
    "The preparation phase includes transforming __text__ into __binary/integer/digital format__\n",
    "\n",
    "For that we need a vocabulary vector:"
   ]
  },
  {
   "cell_type": "markdown",
   "metadata": {},
   "source": [
    "# Vocab and inverse vocab\n",
    "\n",
    "Vocabulary is a mapping (dict) from words to indices (integers). It represents ALL the words in a language. But it's hard to get ALL words, so we count only what we have in a dataset/corpus. \n",
    "\n",
    "Since we don't account for all words, we might encounter Out-Of-Vocab words which we dont know a mapping for. So we usually reserve a special token index for UNKnown words."
   ]
  },
  {
   "cell_type": "markdown",
   "metadata": {},
   "source": [
    "# First ==> Load Data"
   ]
  },
  {
   "cell_type": "code",
   "execution_count": 2,
   "metadata": {},
   "outputs": [],
   "source": [
    "from pathlib import Path\n",
    "import os\n",
    "DATA_PATH = Path('./dat/')\n",
    "DATA_PATH.mkdir(exist_ok =True)\n",
    "#if not os.path.exists('./dat/aclImdb_v1.tar.gz'):\n",
    "if not os.path.exists('./dat/aclImdb'):\n",
    "    !curl -O http://ai.stanford.edu/~amaas/data/sentiment/aclImdb_v1.tar.gz\n",
    "    !tar -xf aclImdb_v1.tar.gz -C {DATA_PATH}"
   ]
  },
  {
   "cell_type": "code",
   "execution_count": 3,
   "metadata": {},
   "outputs": [],
   "source": [
    "import numpy as np\n",
    "CLASSES = ['neg' ,'pos'] #,'unsup']\n",
    "PATH=Path('./dat/aclImdb/')\n",
    "def get_texts(path):\n",
    "  texts ,labels = [] ,[]\n",
    "  for idx , label in enumerate(CLASSES):\n",
    "    for fname in (path/label).glob('*.*'):\n",
    "      #texts.append(fixup(fname.open('r',encoding='utf-8').read()))\n",
    "      texts.append(fname.open('r', encoding='utf-8').read())\n",
    "      labels.append(idx)\n",
    "      #return np.array(texts), np.array(labels)\n",
    "      return texts , labels"
   ]
  },
  {
   "cell_type": "code",
   "execution_count": 4,
   "metadata": {},
   "outputs": [],
   "source": [
    "train_text , train_labels =get_texts(PATH/'train')\n",
    "test_text  , test_labels  =get_texts(PATH/'test')"
   ]
  },
  {
   "cell_type": "markdown",
   "metadata": {},
   "source": [
    "# Manual"
   ]
  },
  {
   "cell_type": "code",
   "execution_count": 5,
   "metadata": {},
   "outputs": [
    {
     "data": {
      "text/plain": [
       "['A',\n",
       " 'Ashton',\n",
       " 'Aside',\n",
       " 'Costner',\n",
       " \"Costner's\",\n",
       " 'Costner.',\n",
       " 'Even',\n",
       " 'Finally',\n",
       " 'Forrest',\n",
       " 'Frederic',\n",
       " 'Future',\n",
       " 'His',\n",
       " 'I',\n",
       " 'Kirkland',\n",
       " 'Kutcher',\n",
       " \"Kutcher's\",\n",
       " 'Kutcher.',\n",
       " 'Most',\n",
       " 'Mr.',\n",
       " 'No',\n",
       " 'On',\n",
       " 'Once',\n",
       " 'Sally',\n",
       " 'Shakespeare',\n",
       " 'Starts',\n",
       " 'Story',\n",
       " 'The',\n",
       " 'Unfortunately',\n",
       " 'Vilmos',\n",
       " 'WHOLE',\n",
       " 'We',\n",
       " 'Zsigmond.',\n",
       " 'a',\n",
       " 'about',\n",
       " 'absurd',\n",
       " 'again',\n",
       " 'all',\n",
       " 'an',\n",
       " 'and',\n",
       " 'any',\n",
       " 'anyone',\n",
       " 'appears',\n",
       " 'are',\n",
       " 'around',\n",
       " 'as',\n",
       " 'audience',\n",
       " 'be',\n",
       " 'best',\n",
       " 'better',\n",
       " 'briefly.',\n",
       " 'by',\n",
       " 'can',\n",
       " 'care',\n",
       " 'care.',\n",
       " 'chantings',\n",
       " 'character',\n",
       " 'characters.',\n",
       " 'cinematography',\n",
       " 'closet,',\n",
       " 'closet.',\n",
       " 'cluttered',\n",
       " 'cocky,',\n",
       " 'comedy.',\n",
       " 'comes',\n",
       " 'could',\n",
       " 'crazy',\n",
       " 'cryptic',\n",
       " 'dialogue',\n",
       " 'did',\n",
       " 'do',\n",
       " 'dragged',\n",
       " 'driven',\n",
       " 'early',\n",
       " 'easy',\n",
       " 'else',\n",
       " 'era',\n",
       " 'eventually',\n",
       " 'example',\n",
       " 'far',\n",
       " 'feelings',\n",
       " 'few',\n",
       " 'for',\n",
       " 'foreshadowing.',\n",
       " 'forgotten',\n",
       " 'formal',\n",
       " 'from',\n",
       " 'future',\n",
       " 'general',\n",
       " 'ghosts',\n",
       " 'ghosts.',\n",
       " 'good',\n",
       " 'grader.',\n",
       " 'great',\n",
       " 'half',\n",
       " 'has',\n",
       " 'have',\n",
       " 'he',\n",
       " \"he's\",\n",
       " 'here,',\n",
       " 'him',\n",
       " 'hour',\n",
       " 'in',\n",
       " 'in.',\n",
       " 'inkling',\n",
       " 'insane,',\n",
       " 'into',\n",
       " 'is',\n",
       " 'it',\n",
       " \"it's\",\n",
       " 'just',\n",
       " 'keep',\n",
       " 'kid',\n",
       " 'later,',\n",
       " 'level',\n",
       " 'longer',\n",
       " 'magic',\n",
       " 'make',\n",
       " 'making',\n",
       " 'man',\n",
       " 'might',\n",
       " 'mob',\n",
       " 'movie',\n",
       " 'much',\n",
       " 'narrative',\n",
       " 'necessary.',\n",
       " 'no',\n",
       " 'not',\n",
       " 'obstacle',\n",
       " 'of',\n",
       " 'off',\n",
       " 'off.',\n",
       " 'on,',\n",
       " 'only',\n",
       " 'opening',\n",
       " 'or',\n",
       " 'orchestra',\n",
       " 'out',\n",
       " 'over',\n",
       " 'overconfident',\n",
       " 'past',\n",
       " 'pig.',\n",
       " 'point',\n",
       " 'prior',\n",
       " 'problem',\n",
       " 'putting.',\n",
       " 'realized',\n",
       " 'really',\n",
       " 'rescue',\n",
       " 'scene',\n",
       " 'sea',\n",
       " 'seem',\n",
       " 'seen',\n",
       " 'sequences,',\n",
       " 'should',\n",
       " 'shows',\n",
       " 'signs',\n",
       " 'singers.',\n",
       " 'some',\n",
       " 'stars',\n",
       " 'stays',\n",
       " 'stinker,',\n",
       " 'technical',\n",
       " 'tells',\n",
       " 'terrific',\n",
       " 'than',\n",
       " 'that',\n",
       " 'the',\n",
       " 'then',\n",
       " 'there',\n",
       " 'think',\n",
       " 'thinks',\n",
       " 'third',\n",
       " 'this',\n",
       " 'those',\n",
       " 'time',\n",
       " 'to',\n",
       " 'told',\n",
       " 'too',\n",
       " 'turned',\n",
       " 'turning',\n",
       " 'unnatural',\n",
       " 'until',\n",
       " 'us',\n",
       " 'very',\n",
       " 'violent',\n",
       " 'was',\n",
       " 'way',\n",
       " 'we',\n",
       " 'well',\n",
       " 'when',\n",
       " 'which',\n",
       " 'who',\n",
       " 'why',\n",
       " 'winning',\n",
       " 'with',\n",
       " 'would',\n",
       " 'you']"
      ]
     },
     "execution_count": 5,
     "metadata": {},
     "output_type": "execute_result"
    }
   ],
   "source": [
    "texts = train_text + test_text\n",
    "words = [word for text in texts for word in text.split()]\n",
    "v =sorted(list(set(words)))\n",
    "v"
   ]
  },
  {
   "cell_type": "markdown",
   "metadata": {},
   "source": [
    "* **String To Index**\n",
    "* **Index To String**"
   ]
  },
  {
   "cell_type": "code",
   "execution_count": 8,
   "metadata": {},
   "outputs": [],
   "source": [
    "str2idx ={w:i for i,w in enumerate(v)}\n",
    "idx2str ={i:w for i,w in enumerate(v)}\n",
    "# or int2str = dict([(value, key) for (key, value) in str2int.items()])"
   ]
  },
  {
   "cell_type": "markdown",
   "metadata": {},
   "source": [
    "If we want word_counts and ordered dict str2idx (same in keras Tokenizer)"
   ]
  },
  {
   "cell_type": "code",
   "execution_count": 9,
   "metadata": {},
   "outputs": [
    {
     "name": "stdout",
     "output_type": "stream",
     "text": [
      "[('a', 9), ('of', 8), ('the', 8)]\n"
     ]
    },
    {
     "data": {
      "text/plain": [
       "{'a': 9,\n",
       " 'of': 8,\n",
       " 'the': 8,\n",
       " 'is': 5,\n",
       " 'with': 4,\n",
       " 'it': 4,\n",
       " 'be': 4,\n",
       " 'to': 4,\n",
       " 'and': 4,\n",
       " 'are': 4,\n",
       " 'by': 3,\n",
       " 'no': 3,\n",
       " 'off': 3,\n",
       " 'from': 3,\n",
       " 'The': 3,\n",
       " 'than': 3,\n",
       " 'I': 3,\n",
       " 'about': 3,\n",
       " 'who': 2,\n",
       " 'has': 2,\n",
       " 'for': 2,\n",
       " 'out': 2,\n",
       " 'terrific': 2,\n",
       " 'absurd': 2,\n",
       " 'turned': 2,\n",
       " 'an': 2,\n",
       " \"it's\": 2,\n",
       " 'time': 2,\n",
       " 'just': 2,\n",
       " 'should': 2,\n",
       " 'better': 2,\n",
       " 'Costner': 2,\n",
       " 'which': 2,\n",
       " 'very': 2,\n",
       " 'did': 2,\n",
       " 'not': 2,\n",
       " 'care': 2,\n",
       " 'us': 2,\n",
       " 'character': 2,\n",
       " 'we': 2,\n",
       " 'all': 2,\n",
       " 'Story': 1,\n",
       " 'man': 1,\n",
       " 'unnatural': 1,\n",
       " 'feelings': 1,\n",
       " 'pig.': 1,\n",
       " 'Starts': 1,\n",
       " 'opening': 1,\n",
       " 'scene': 1,\n",
       " 'that': 1,\n",
       " 'example': 1,\n",
       " 'comedy.': 1,\n",
       " 'A': 1,\n",
       " 'formal': 1,\n",
       " 'orchestra': 1,\n",
       " 'audience': 1,\n",
       " 'into': 1,\n",
       " 'insane,': 1,\n",
       " 'violent': 1,\n",
       " 'mob': 1,\n",
       " 'crazy': 1,\n",
       " 'chantings': 1,\n",
       " 'singers.': 1,\n",
       " 'Unfortunately': 1,\n",
       " 'stays': 1,\n",
       " 'WHOLE': 1,\n",
       " 'general': 1,\n",
       " 'narrative': 1,\n",
       " 'eventually': 1,\n",
       " 'making': 1,\n",
       " 'too': 1,\n",
       " 'putting.': 1,\n",
       " 'Even': 1,\n",
       " 'those': 1,\n",
       " 'era': 1,\n",
       " 'off.': 1,\n",
       " 'cryptic': 1,\n",
       " 'dialogue': 1,\n",
       " 'would': 1,\n",
       " 'make': 1,\n",
       " 'Shakespeare': 1,\n",
       " 'seem': 1,\n",
       " 'easy': 1,\n",
       " 'third': 1,\n",
       " 'grader.': 1,\n",
       " 'On': 1,\n",
       " 'technical': 1,\n",
       " 'level': 1,\n",
       " 'you': 1,\n",
       " 'might': 1,\n",
       " 'think': 1,\n",
       " 'some': 1,\n",
       " 'good': 1,\n",
       " 'cinematography': 1,\n",
       " 'future': 1,\n",
       " 'great': 1,\n",
       " 'Vilmos': 1,\n",
       " 'Zsigmond.': 1,\n",
       " 'Future': 1,\n",
       " 'stars': 1,\n",
       " 'Sally': 1,\n",
       " 'Kirkland': 1,\n",
       " 'Frederic': 1,\n",
       " 'Forrest': 1,\n",
       " 'can': 1,\n",
       " 'seen': 1,\n",
       " 'briefly.': 1,\n",
       " 'Once': 1,\n",
       " 'again': 1,\n",
       " 'Mr.': 1,\n",
       " 'dragged': 1,\n",
       " 'movie': 1,\n",
       " 'far': 1,\n",
       " 'longer': 1,\n",
       " 'necessary.': 1,\n",
       " 'Aside': 1,\n",
       " 'sea': 1,\n",
       " 'rescue': 1,\n",
       " 'sequences,': 1,\n",
       " 'there': 1,\n",
       " 'few': 1,\n",
       " 'any': 1,\n",
       " 'characters.': 1,\n",
       " 'Most': 1,\n",
       " 'have': 1,\n",
       " 'ghosts': 1,\n",
       " 'in': 1,\n",
       " 'closet,': 1,\n",
       " \"Costner's\": 1,\n",
       " 'realized': 1,\n",
       " 'early': 1,\n",
       " 'on,': 1,\n",
       " 'then': 1,\n",
       " 'forgotten': 1,\n",
       " 'until': 1,\n",
       " 'much': 1,\n",
       " 'later,': 1,\n",
       " 'care.': 1,\n",
       " 'really': 1,\n",
       " 'cocky,': 1,\n",
       " 'overconfident': 1,\n",
       " 'Ashton': 1,\n",
       " 'Kutcher.': 1,\n",
       " 'problem': 1,\n",
       " 'he': 1,\n",
       " 'comes': 1,\n",
       " 'as': 1,\n",
       " 'kid': 1,\n",
       " 'thinks': 1,\n",
       " \"he's\": 1,\n",
       " 'anyone': 1,\n",
       " 'else': 1,\n",
       " 'around': 1,\n",
       " 'him': 1,\n",
       " 'shows': 1,\n",
       " 'signs': 1,\n",
       " 'cluttered': 1,\n",
       " 'closet.': 1,\n",
       " 'His': 1,\n",
       " 'only': 1,\n",
       " 'obstacle': 1,\n",
       " 'appears': 1,\n",
       " 'winning': 1,\n",
       " 'over': 1,\n",
       " 'Costner.': 1,\n",
       " 'Finally': 1,\n",
       " 'when': 1,\n",
       " 'well': 1,\n",
       " 'past': 1,\n",
       " 'half': 1,\n",
       " 'way': 1,\n",
       " 'point': 1,\n",
       " 'this': 1,\n",
       " 'stinker,': 1,\n",
       " 'tells': 1,\n",
       " \"Kutcher's\": 1,\n",
       " 'ghosts.': 1,\n",
       " 'We': 1,\n",
       " 'told': 1,\n",
       " 'why': 1,\n",
       " 'Kutcher': 1,\n",
       " 'driven': 1,\n",
       " 'best': 1,\n",
       " 'prior': 1,\n",
       " 'inkling': 1,\n",
       " 'or': 1,\n",
       " 'foreshadowing.': 1,\n",
       " 'No': 1,\n",
       " 'magic': 1,\n",
       " 'here,': 1,\n",
       " 'was': 1,\n",
       " 'could': 1,\n",
       " 'do': 1,\n",
       " 'keep': 1,\n",
       " 'turning': 1,\n",
       " 'hour': 1,\n",
       " 'in.': 1}"
      ]
     },
     "execution_count": 9,
     "metadata": {},
     "output_type": "execute_result"
    }
   ],
   "source": [
    "from collections import Counter\n",
    "word_counts = Counter(words)\n",
    "print(word_counts.most_common(3))\n",
    "v_s = sorted(word_counts.items(), key=lambda x: x[1],  reverse=True)\n",
    "str2idx = {key:val for key,val in v_s}\n",
    "idx2str = {val:key for key,val in v_s}\n",
    "str2idx"
   ]
  },
  {
   "cell_type": "markdown",
   "metadata": {},
   "source": [
    "## Binarization/vecotrization\n",
    "\n",
    "We can use any given vocab dict to binarize text and come back. This maps exactly to keras texts_to_sequences"
   ]
  },
  {
   "cell_type": "code",
   "execution_count": 10,
   "metadata": {},
   "outputs": [
    {
     "data": {
      "text/plain": [
       "[9, 1]"
      ]
     },
     "execution_count": 10,
     "metadata": {},
     "output_type": "execute_result"
    }
   ],
   "source": [
    "s = 'a movie'\n",
    "l = [str2idx[w] for w in s.split()]\n",
    "l"
   ]
  },
  {
   "cell_type": "markdown",
   "metadata": {},
   "source": [
    "**For a full corpus (list of docs) like texts_to_sequences:**"
   ]
  },
  {
   "cell_type": "code",
   "execution_count": 11,
   "metadata": {},
   "outputs": [
    {
     "data": {
      "text/plain": [
       "[[9, 1], [1, 1]]"
      ]
     },
     "execution_count": 11,
     "metadata": {},
     "output_type": "execute_result"
    }
   ],
   "source": [
    "docs = ['a movie ', 'well magic']\n",
    "l = [[str2idx[w] for w in s.split()] for s in docs]\n",
    "l"
   ]
  },
  {
   "cell_type": "markdown",
   "metadata": {},
   "source": [
    "**To reverse back, we use the reverse mapping:**"
   ]
  },
  {
   "cell_type": "code",
   "execution_count": 12,
   "metadata": {},
   "outputs": [
    {
     "data": {
      "text/plain": [
       "['a in.', 'in. in.']"
      ]
     },
     "execution_count": 12,
     "metadata": {},
     "output_type": "execute_result"
    }
   ],
   "source": [
    "s = [' '.join([idx2str[i] for i in d]) for d in l]\n",
    "s"
   ]
  },
  {
   "cell_type": "markdown",
   "metadata": {},
   "source": [
    "## Keras Tokenizer\n",
    "\n",
    "The keras tokenizer can be used to convert a sequence of words into integers. \n",
    "\n",
    "It builds an internal vocab, called `word_index`.\n",
    "\n"
   ]
  },
  {
   "cell_type": "markdown",
   "metadata": {},
   "source": [
    "To use a tokenizer, you must first `fit` it to the texts. It learns some stats about the text this way.\n",
    "\n",
    "__It's advised to fit the tokenizer on all the data (train+test) to avoid OOV__\n",
    "\n",
    "This is not \"cheating\" and not leading to overfitting, as we don't use the test labels, but only the raw text features (unsupervised)"
   ]
  },
  {
   "cell_type": "code",
   "execution_count": 13,
   "metadata": {},
   "outputs": [
    {
     "data": {
      "text/plain": [
       "[\"Story of a man who has unnatural feelings for a pig. Starts out with a opening scene that is a terrific example of absurd comedy. A formal orchestra audience is turned into an insane, violent mob by the crazy chantings of it's singers. Unfortunately it stays absurd the WHOLE time with no general narrative eventually making it just too off putting. Even those from the era should be turned off. The cryptic dialogue would make Shakespeare seem easy to a third grader. On a technical level it's better than you might think with some good cinematography by future great Vilmos Zsigmond. Future stars Sally Kirkland and Frederic Forrest can be seen briefly.\",\n",
       " \"Once again Mr. Costner has dragged out a movie for far longer than necessary. Aside from the terrific sea rescue sequences, of which there are very few I just did not care about any of the characters. Most of us have ghosts in the closet, and Costner's character are realized early on, and then forgotten until much later, by which time I did not care. The character we should really care about is a very cocky, overconfident Ashton Kutcher. The problem is he comes off as kid who thinks he's better than anyone else around him and shows no signs of a cluttered closet. His only obstacle appears to be winning over Costner. Finally when we are well past the half way point of this stinker, Costner tells us all about Kutcher's ghosts. We are told why Kutcher is driven to be the best with no prior inkling or foreshadowing. No magic here, it was all I could do to keep from turning it off an hour in.\"]"
      ]
     },
     "execution_count": 13,
     "metadata": {},
     "output_type": "execute_result"
    }
   ],
   "source": [
    "from tensorflow.keras.preprocessing.text import Tokenizer\n",
    "texts = train_text + test_text\n",
    "texts[:10]"
   ]
  },
  {
   "cell_type": "markdown",
   "metadata": {},
   "source": [
    "* `fit_on_texts` -->  is a method in the Tokenizer class from the tensorflow.keras.preprocessing.text module.\n",
    "*  It is used to update the internal vocabulary of the tokenizer based on a list of texts.\n",
    "\n"
   ]
  },
  {
   "attachments": {
    "1_gqHDyZFCXpIHdQW5x3-b3g.png": {
     "image/png": "[encoded data removed]"
    }
   },
   "cell_type": "markdown",
   "metadata": {},
   "source": [
    "![1_gqHDyZFCXpIHdQW5x3-b3g.png](attachment:1_gqHDyZFCXpIHdQW5x3-b3g.png)"
   ]
  },
  {
   "cell_type": "code",
   "execution_count": 21,
   "metadata": {},
   "outputs": [
    {
     "data": {
      "text/plain": [
       "{'this': 1,\n",
       " 'is': 2,\n",
       " 'the': 3,\n",
       " 'text': 4,\n",
       " 'first': 5,\n",
       " 'second': 6,\n",
       " 'one': 7,\n",
       " 'and': 8,\n",
       " 'third': 9}"
      ]
     },
     "execution_count": 21,
     "metadata": {},
     "output_type": "execute_result"
    }
   ],
   "source": [
    "# Example\n",
    "from keras.preprocessing.text import Tokenizer\n",
    "\n",
    "# Create a tokenizer object\n",
    "tokenizer = Tokenizer()\n",
    "\n",
    "# List of texts\n",
    "texts = ['This is the first text.', 'This text is the second one.', 'And this is the third text.']\n",
    "\n",
    "# Update the vocabulary based on the texts\n",
    "tokenizer.fit_on_texts(texts)\n",
    "tokenizer.word_index"
   ]
  },
  {
   "cell_type": "code",
   "execution_count": 14,
   "metadata": {},
   "outputs": [
    {
     "data": {
      "text/plain": [
       "[\"Story of a man who has unnatural feelings for a pig. Starts out with a opening scene that is a terrific example of absurd comedy. A formal orchestra audience is turned into an insane, violent mob by the crazy chantings of it's singers. Unfortunately it stays absurd the WHOLE time with no general narrative eventually making it just too off putting. Even those from the era should be turned off. The cryptic dialogue would make Shakespeare seem easy to a third grader. On a technical level it's better than you might think with some good cinematography by future great Vilmos Zsigmond. Future stars Sally Kirkland and Frederic Forrest can be seen briefly.\",\n",
       " \"Once again Mr. Costner has dragged out a movie for far longer than necessary. Aside from the terrific sea rescue sequences, of which there are very few I just did not care about any of the characters. Most of us have ghosts in the closet, and Costner's character are realized early on, and then forgotten until much later, by which time I did not care. The character we should really care about is a very cocky, overconfident Ashton Kutcher. The problem is he comes off as kid who thinks he's better than anyone else around him and shows no signs of a cluttered closet. His only obstacle appears to be winning over Costner. Finally when we are well past the half way point of this stinker, Costner tells us all about Kutcher's ghosts. We are told why Kutcher is driven to be the best with no prior inkling or foreshadowing. No magic here, it was all I could do to keep from turning it off an hour in.\"]"
      ]
     },
     "execution_count": 14,
     "metadata": {},
     "output_type": "execute_result"
    }
   ],
   "source": [
    "from tensorflow.keras.preprocessing.text import Tokenizer\n",
    "texts = train_text + test_text\n",
    "texts[:10]"
   ]
  },
  {
   "cell_type": "code",
   "execution_count": 15,
   "metadata": {},
   "outputs": [
    {
     "data": {
      "text/plain": [
       "{'the': 1,\n",
       " 'a': 2,\n",
       " 'of': 3,\n",
       " 'is': 4,\n",
       " 'with': 5,\n",
       " 'it': 6,\n",
       " 'no': 7,\n",
       " 'off': 8,\n",
       " 'be': 9,\n",
       " 'to': 10,\n",
       " 'and': 11,\n",
       " 'are': 12,\n",
       " 'by': 13,\n",
       " 'from': 14,\n",
       " 'than': 15,\n",
       " 'costner': 16,\n",
       " 'i': 17,\n",
       " 'care': 18,\n",
       " 'about': 19,\n",
       " 'we': 20,\n",
       " 'who': 21,\n",
       " 'has': 22,\n",
       " 'for': 23,\n",
       " 'out': 24,\n",
       " 'terrific': 25,\n",
       " 'absurd': 26,\n",
       " 'turned': 27,\n",
       " 'an': 28,\n",
       " \"it's\": 29,\n",
       " 'time': 30,\n",
       " 'just': 31,\n",
       " 'should': 32,\n",
       " 'on': 33,\n",
       " 'better': 34,\n",
       " 'future': 35,\n",
       " 'which': 36,\n",
       " 'very': 37,\n",
       " 'did': 38,\n",
       " 'not': 39,\n",
       " 'us': 40,\n",
       " 'ghosts': 41,\n",
       " 'in': 42,\n",
       " 'closet': 43,\n",
       " 'character': 44,\n",
       " 'kutcher': 45,\n",
       " 'all': 46,\n",
       " 'story': 47,\n",
       " 'man': 48,\n",
       " 'unnatural': 49,\n",
       " 'feelings': 50,\n",
       " 'pig': 51,\n",
       " 'starts': 52,\n",
       " 'opening': 53,\n",
       " 'scene': 54,\n",
       " 'that': 55,\n",
       " 'example': 56,\n",
       " 'comedy': 57,\n",
       " 'formal': 58,\n",
       " 'orchestra': 59,\n",
       " 'audience': 60,\n",
       " 'into': 61,\n",
       " 'insane': 62,\n",
       " 'violent': 63,\n",
       " 'mob': 64,\n",
       " 'crazy': 65,\n",
       " 'chantings': 66,\n",
       " 'singers': 67,\n",
       " 'unfortunately': 68,\n",
       " 'stays': 69,\n",
       " 'whole': 70,\n",
       " 'general': 71,\n",
       " 'narrative': 72,\n",
       " 'eventually': 73,\n",
       " 'making': 74,\n",
       " 'too': 75,\n",
       " 'putting': 76,\n",
       " 'even': 77,\n",
       " 'those': 78,\n",
       " 'era': 79,\n",
       " 'cryptic': 80,\n",
       " 'dialogue': 81,\n",
       " 'would': 82,\n",
       " 'make': 83,\n",
       " 'shakespeare': 84,\n",
       " 'seem': 85,\n",
       " 'easy': 86,\n",
       " 'third': 87,\n",
       " 'grader': 88,\n",
       " 'technical': 89,\n",
       " 'level': 90,\n",
       " 'you': 91,\n",
       " 'might': 92,\n",
       " 'think': 93,\n",
       " 'some': 94,\n",
       " 'good': 95,\n",
       " 'cinematography': 96,\n",
       " 'great': 97,\n",
       " 'vilmos': 98,\n",
       " 'zsigmond': 99,\n",
       " 'stars': 100,\n",
       " 'sally': 101,\n",
       " 'kirkland': 102,\n",
       " 'frederic': 103,\n",
       " 'forrest': 104,\n",
       " 'can': 105,\n",
       " 'seen': 106,\n",
       " 'briefly': 107,\n",
       " 'once': 108,\n",
       " 'again': 109,\n",
       " 'mr': 110,\n",
       " 'dragged': 111,\n",
       " 'movie': 112,\n",
       " 'far': 113,\n",
       " 'longer': 114,\n",
       " 'necessary': 115,\n",
       " 'aside': 116,\n",
       " 'sea': 117,\n",
       " 'rescue': 118,\n",
       " 'sequences': 119,\n",
       " 'there': 120,\n",
       " 'few': 121,\n",
       " 'any': 122,\n",
       " 'characters': 123,\n",
       " 'most': 124,\n",
       " 'have': 125,\n",
       " \"costner's\": 126,\n",
       " 'realized': 127,\n",
       " 'early': 128,\n",
       " 'then': 129,\n",
       " 'forgotten': 130,\n",
       " 'until': 131,\n",
       " 'much': 132,\n",
       " 'later': 133,\n",
       " 'really': 134,\n",
       " 'cocky': 135,\n",
       " 'overconfident': 136,\n",
       " 'ashton': 137,\n",
       " 'problem': 138,\n",
       " 'he': 139,\n",
       " 'comes': 140,\n",
       " 'as': 141,\n",
       " 'kid': 142,\n",
       " 'thinks': 143,\n",
       " \"he's\": 144,\n",
       " 'anyone': 145,\n",
       " 'else': 146,\n",
       " 'around': 147,\n",
       " 'him': 148,\n",
       " 'shows': 149,\n",
       " 'signs': 150,\n",
       " 'cluttered': 151,\n",
       " 'his': 152,\n",
       " 'only': 153,\n",
       " 'obstacle': 154,\n",
       " 'appears': 155,\n",
       " 'winning': 156,\n",
       " 'over': 157,\n",
       " 'finally': 158,\n",
       " 'when': 159,\n",
       " 'well': 160,\n",
       " 'past': 161,\n",
       " 'half': 162,\n",
       " 'way': 163,\n",
       " 'point': 164,\n",
       " 'this': 165,\n",
       " 'stinker': 166,\n",
       " 'tells': 167,\n",
       " \"kutcher's\": 168,\n",
       " 'told': 169,\n",
       " 'why': 170,\n",
       " 'driven': 171,\n",
       " 'best': 172,\n",
       " 'prior': 173,\n",
       " 'inkling': 174,\n",
       " 'or': 175,\n",
       " 'foreshadowing': 176,\n",
       " 'magic': 177,\n",
       " 'here': 178,\n",
       " 'was': 179,\n",
       " 'could': 180,\n",
       " 'do': 181,\n",
       " 'keep': 182,\n",
       " 'turning': 183,\n",
       " 'hour': 184}"
      ]
     },
     "execution_count": 15,
     "metadata": {},
     "output_type": "execute_result"
    }
   ],
   "source": [
    "\n",
    "tok = Tokenizer(texts)\n",
    "tok.fit_on_texts(texts)\n",
    "tok.word_index"
   ]
  },
  {
   "cell_type": "code",
   "execution_count": 29,
   "metadata": {},
   "outputs": [
    {
     "data": {
      "text/plain": [
       "\"#Example \\nfrom tensorflow import keras\\nfrom tensorflow.keras.preprocessing.text import Tokenizer\\n# Define the text corpus\\ntexts = ['I love apples', 'I hate oranges', 'Bananas are tasty']\\n# Create a tokenizer with oov_token='UNK'\\ntokenizer = Tokenizer(oov_token='UNK')\\ntokenizer.fit_on_texts(texts)\\n# Convert text to sequences\\nsequences = tokenizer.texts_to_sequences(texts)\\n# Demonstrate handling OOV words\\ntest_text = 'I like grapes and pears'\\ntest_sequence = tokenizer.texts_to_sequences([test_text])\\nprint(test_sequence) #  [[2, 1, 1, 1, 1]]\""
      ]
     },
     "execution_count": 29,
     "metadata": {},
     "output_type": "execute_result"
    }
   ],
   "source": [
    "'''#Example \n",
    "from tensorflow import keras\n",
    "from tensorflow.keras.preprocessing.text import Tokenizer\n",
    "# Define the text corpus\n",
    "texts = ['I love apples', 'I hate oranges', 'Bananas are tasty']\n",
    "# Create a tokenizer with oov_token='UNK'\n",
    "tokenizer = Tokenizer(oov_token='UNK')\n",
    "tokenizer.fit_on_texts(texts)\n",
    "# Convert text to sequences\n",
    "sequences = tokenizer.texts_to_sequences(texts)\n",
    "# Demonstrate handling OOV words\n",
    "test_text = 'I like grapes and pears'\n",
    "test_sequence = tokenizer.texts_to_sequences([test_text])\n",
    "print(test_sequence) #  [[2, 1, 1, 1, 1]]'''     "
   ]
  },
  {
   "cell_type": "markdown",
   "metadata": {},
   "source": [
    "* **We could fit the tokenizer with an `OOV` token, which will be added to `word_index` and given**"
   ]
  },
  {
   "cell_type": "markdown",
   "metadata": {},
   "source": [
    "* `The oov_token='UNK'` -->  is a parameter used in Natural Language Processing (NLP) tasks, particularly in text tokenization.\n",
    "* `\"UNK\"` --> stands for \"unknown\" and is used to represent out-of-vocabulary (OOV) words or tokens.\n",
    "* `OOV` -->  words are the ones that are not present in the vocabulary or training data of a language model."
   ]
  },
  {
   "cell_type": "code",
   "execution_count": 16,
   "metadata": {},
   "outputs": [],
   "source": [
    "tok = Tokenizer(oov_token='UNK')\n",
    "tok.fit_on_texts(texts)"
   ]
  }
 ],
 "metadata": {
  "kernelspec": {
   "display_name": "Python 3",
   "language": "python",
   "name": "python3"
  },
  "language_info": {
   "codemirror_mode": {
    "name": "ipython",
    "version": 3
   },
   "file_extension": ".py",
   "mimetype": "text/x-python",
   "name": "python",
   "nbconvert_exporter": "python",
   "pygments_lexer": "ipython3",
   "version": "3.10.0"
  },
  "orig_nbformat": 4
 },
 "nbformat": 4,
 "nbformat_minor": 2
}
